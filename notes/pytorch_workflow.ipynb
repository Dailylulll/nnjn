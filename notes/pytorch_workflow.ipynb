{
 "cells": [
  {
   "cell_type": "code",
   "execution_count": 30,
   "outputs": [
    {
     "data": {
      "text/plain": "'2.0.1'"
     },
     "execution_count": 30,
     "metadata": {},
     "output_type": "execute_result"
    }
   ],
   "source": [
    "import torch\n",
    "from torch import nn\n",
    "import matplotlib.pyplot as plt\n",
    "\n",
    "torch.__version__\n"
   ],
   "metadata": {
    "collapsed": false,
    "ExecuteTime": {
     "end_time": "2024-01-11T22:34:01.129699300Z",
     "start_time": "2024-01-11T22:34:01.095287900Z"
    }
   },
   "id": "1d31bc6e31da4b13"
  },
  {
   "cell_type": "markdown",
   "source": [
    "# Data\n",
    "\n",
    "three blue one brown\n",
    "\n",
    "## Can be anything\n",
    "- excel spreadsheeets, images, videos or audio\n",
    "\n",
    "## Encode data into numerical rep\n",
    "- IN A TENSOR\n",
    "\n"
   ],
   "metadata": {
    "collapsed": false
   },
   "id": "9d88ae8cc972af58"
  },
  {
   "cell_type": "code",
   "execution_count": 31,
   "outputs": [
    {
     "data": {
      "text/plain": "(torch.Size([50, 1]),\n torch.Size([50, 1]),\n tensor([[0.0000],\n         [0.0200],\n         [0.0400],\n         [0.0600],\n         [0.0800],\n         [0.1000],\n         [0.1200],\n         [0.1400],\n         [0.1600],\n         [0.1800],\n         [0.2000],\n         [0.2200],\n         [0.2400],\n         [0.2600],\n         [0.2800],\n         [0.3000],\n         [0.3200],\n         [0.3400],\n         [0.3600],\n         [0.3800],\n         [0.4000],\n         [0.4200],\n         [0.4400],\n         [0.4600],\n         [0.4800],\n         [0.5000],\n         [0.5200],\n         [0.5400],\n         [0.5600],\n         [0.5800],\n         [0.6000],\n         [0.6200],\n         [0.6400],\n         [0.6600],\n         [0.6800],\n         [0.7000],\n         [0.7200],\n         [0.7400],\n         [0.7600],\n         [0.7800],\n         [0.8000],\n         [0.8200],\n         [0.8400],\n         [0.8600],\n         [0.8800],\n         [0.9000],\n         [0.9200],\n         [0.9400],\n         [0.9600],\n         [0.9800]]),\n tensor([[0.3000],\n         [0.3140],\n         [0.3280],\n         [0.3420],\n         [0.3560],\n         [0.3700],\n         [0.3840],\n         [0.3980],\n         [0.4120],\n         [0.4260],\n         [0.4400],\n         [0.4540],\n         [0.4680],\n         [0.4820],\n         [0.4960],\n         [0.5100],\n         [0.5240],\n         [0.5380],\n         [0.5520],\n         [0.5660],\n         [0.5800],\n         [0.5940],\n         [0.6080],\n         [0.6220],\n         [0.6360],\n         [0.6500],\n         [0.6640],\n         [0.6780],\n         [0.6920],\n         [0.7060],\n         [0.7200],\n         [0.7340],\n         [0.7480],\n         [0.7620],\n         [0.7760],\n         [0.7900],\n         [0.8040],\n         [0.8180],\n         [0.8320],\n         [0.8460],\n         [0.8600],\n         [0.8740],\n         [0.8880],\n         [0.9020],\n         [0.9160],\n         [0.9300],\n         [0.9440],\n         [0.9580],\n         [0.9720],\n         [0.9860]]))"
     },
     "execution_count": 31,
     "metadata": {},
     "output_type": "execute_result"
    }
   ],
   "source": [
    "# create data\n",
    "\n",
    "weight = 0.7\n",
    "bias = 0.3\n",
    "start = 0\n",
    "end = 1\n",
    "step = 0.02\n",
    "x = torch.arange(start, end, step).unsqueeze(dim=1)\n",
    "y = torch.tensor([i * 0.7 + 0.3 for i in x]).reshape(x.shape)\n",
    "x.shape, y.shape, x, y"
   ],
   "metadata": {
    "collapsed": false,
    "ExecuteTime": {
     "end_time": "2024-01-11T22:34:02.729594300Z",
     "start_time": "2024-01-11T22:34:02.720684400Z"
    }
   },
   "id": "3cb5ed0327a7ed89"
  },
  {
   "cell_type": "markdown",
   "source": [
    "# split data into training, validation and test set\n",
    "1. training is for training, 60 - 80%\n",
    "2. validation set is for tuning, 10 - 20%\n",
    "3. test is for model evaluation, 10 - 20%\n",
    "    - The model never sees the test set\n",
    "\n",
    "# Generalization\n",
    "- The ability for a machine learning model to perform well on data it hasnt seen before\n"
   ],
   "metadata": {
    "collapsed": false
   },
   "id": "b7bee3791b1c3718"
  },
  {
   "cell_type": "code",
   "execution_count": 32,
   "outputs": [
    {
     "name": "stdout",
     "output_type": "stream",
     "text": [
      "50\n",
      "40\n"
     ]
    }
   ],
   "source": [
    "# train 80, test 20, scikit train test split helps with this\n",
    "import random\n",
    "p = 0.8\n",
    "l = len(x)\n",
    "print(l)\n",
    "train_size = int(l * p)\n",
    "print(train_size)\n",
    "t_set = set(random.sample(range(l), train_size))"
   ],
   "metadata": {
    "collapsed": false,
    "ExecuteTime": {
     "end_time": "2024-01-11T22:34:06.443945500Z",
     "start_time": "2024-01-11T22:34:06.427078200Z"
    }
   },
   "id": "ba7e5c4ed838b5d6"
  },
  {
   "cell_type": "code",
   "execution_count": 33,
   "outputs": [],
   "source": [
    "full_set = set(range(l))\n",
    "test_set = full_set.difference(t_set)"
   ],
   "metadata": {
    "collapsed": false,
    "ExecuteTime": {
     "end_time": "2024-01-11T22:34:07.249080Z",
     "start_time": "2024-01-11T22:34:07.244383700Z"
    }
   },
   "id": "8c17a7457335c0be"
  },
  {
   "cell_type": "code",
   "execution_count": 34,
   "outputs": [
    {
     "data": {
      "text/plain": "(10, 10, 40, 40)"
     },
     "execution_count": 34,
     "metadata": {},
     "output_type": "execute_result"
    }
   ],
   "source": [
    "train_indices = torch.tensor(list(t_set))\n",
    "test_indices = torch.tensor(list(test_set))\n",
    "X, Y = x[train_indices], y[train_indices]\n",
    "x, y = x[test_indices], y[test_indices]\n",
    "len(x), len(y), len(X), len(Y)"
   ],
   "metadata": {
    "collapsed": false,
    "ExecuteTime": {
     "end_time": "2024-01-11T22:34:07.754395200Z",
     "start_time": "2024-01-11T22:34:07.725961900Z"
    }
   },
   "id": "730d35ee6e6d9c22"
  },
  {
   "cell_type": "code",
   "execution_count": 36,
   "outputs": [
    {
     "data": {
      "text/plain": "<matplotlib.collections.PathCollection at 0x1ecb97096d0>"
     },
     "execution_count": 36,
     "metadata": {},
     "output_type": "execute_result"
    },
    {
     "data": {
      "text/plain": "<Figure size 1000x700 with 1 Axes>",
      "image/png": "[encoded data removed]"
     },
     "metadata": {},
     "output_type": "display_data"
    }
   ],
   "source": [
    "plt.figure(figsize=(10,7))\n",
    "plt.scatter(X, Y, c=\"b\", s=4, label=\"Training data\")\n",
    "plt.scatter(x, y, c=\"g\", s=4, label=\"testing data\")"
   ],
   "metadata": {
    "collapsed": false,
    "ExecuteTime": {
     "end_time": "2024-01-11T22:34:20.545022700Z",
     "start_time": "2024-01-11T22:34:20.419912100Z"
    }
   },
   "id": "1ac672aeebbdbca7"
  },
  {
   "cell_type": "code",
   "execution_count": 40,
   "outputs": [],
   "source": [
    "class LinearRegression(nn.Module):\n",
    "    def __init__(self):\n",
    "        super().__init__()\n",
    "        self.weights = nn.Parameter(torch.randn(1,\n",
    "                                                requires_grad=True,\n",
    "                                                dtype=torch.float))\n",
    "        self.bias = nn.Parameter(torch.randn(1,\n",
    "                                             requires_grad=True,\n",
    "                                             dtype=torch.float))\n",
    "        \n",
    "    def forward(self, x: torch.Tensor) -> torch.Tensor:  # using this forward can i create any non linear model, each neuron is a term\n",
    "        return self.weights * x + self.bias\n",
    "        "
   ],
   "metadata": {
    "collapsed": false,
    "ExecuteTime": {
     "end_time": "2024-01-11T23:02:05.802892800Z",
     "start_time": "2024-01-11T23:02:05.767759500Z"
    }
   },
   "id": "481c9f683293bd18"
  },
  {
   "cell_type": "markdown",
   "source": [
    "nn - contains all building blocks for computational graphs\n",
    "nn.Parameter - the paramters our model tries to learn\n",
    "nn..Module - a prebuilt graph layer, if you subclass it, overwrite forward\n",
    "optim - training algorithms\n",
    "\n",
    "model.state_dict() summarizes model"
   ],
   "metadata": {
    "collapsed": false
   },
   "id": "81fbc86ff4cbcff0"
  },
  {
   "cell_type": "code",
   "execution_count": 41,
   "outputs": [
    {
     "data": {
      "text/plain": "tensor([[-1.7540],\n        [-1.5588],\n        [-1.7889],\n        [-1.7958],\n        [-1.5867],\n        [-1.6285],\n        [-1.6424],\n        [-1.6494],\n        [-1.8725],\n        [-1.7191]])"
     },
     "execution_count": 41,
     "metadata": {},
     "output_type": "execute_result"
    }
   ],
   "source": [
    "# use inference mode to evaulate models\n",
    "# inference mode turns off gradients\n",
    "# faster than torch.no_grad()\n",
    "\n",
    "m1 = LinearRegression()\n",
    "\n",
    "with torch.inference_mode():\n",
    "    y_preds = m1(x)\n",
    "    \n",
    "y_preds"
   ],
   "metadata": {
    "collapsed": false,
    "ExecuteTime": {
     "end_time": "2024-01-11T23:02:07.676874900Z",
     "start_time": "2024-01-11T23:02:07.643449500Z"
    }
   },
   "id": "9a4171de0fefb897"
  },
  {
   "cell_type": "code",
   "execution_count": 60,
   "outputs": [],
   "source": [
    "loss_fn = nn.L1Loss()\n",
    "optim = torch.optim.SGD(m1.parameters(),\n",
    "                        lr=0.01)"
   ],
   "metadata": {
    "collapsed": false,
    "ExecuteTime": {
     "end_time": "2024-01-11T23:44:06.459100Z",
     "start_time": "2024-01-11T23:44:06.427520500Z"
    }
   },
   "id": "9da55e4a9b880daa"
  },
  {
   "cell_type": "code",
   "execution_count": 64,
   "outputs": [],
   "source": [
    "epochs = 1000\n",
    "m1.train()  # train mode, turns on gradients\n",
    "for i in range(epochs):\n",
    "    y_preds = m1(X)\n",
    "    loss = loss_fn(y_preds, Y)\n",
    "    optim.zero_grad()\n",
    "    loss.backward()\n",
    "    optim.step()"
   ],
   "metadata": {
    "collapsed": false,
    "ExecuteTime": {
     "end_time": "2024-01-11T23:44:21.708969500Z",
     "start_time": "2024-01-11T23:44:21.530197400Z"
    }
   },
   "id": "589080c4eaa95da"
  },
  {
   "cell_type": "code",
   "execution_count": 68,
   "outputs": [
    {
     "data": {
      "text/plain": "(tensor([0.6400, 0.0800, 0.7400, 0.7600, 0.1600, 0.2800, 0.3200, 0.3400, 0.9800,\n         0.5400]),\n tensor([0.7375, 0.3500, 0.8068, 0.8206, 0.4054, 0.4884, 0.5161, 0.5299, 0.9728,\n         0.6683]))"
     },
     "execution_count": 68,
     "metadata": {},
     "output_type": "execute_result"
    }
   ],
   "source": [
    "with torch.inference_mode():\n",
    "    y_preds = m1(x)\n",
    "    \n",
    "x.squeeze(dim=1), y_preds.squeeze(dim=1)"
   ],
   "metadata": {
    "collapsed": false,
    "ExecuteTime": {
     "end_time": "2024-01-11T23:45:17.307442400Z",
     "start_time": "2024-01-11T23:45:17.275089300Z"
    }
   },
   "id": "4a0a668b994d9822"
  },
  {
   "cell_type": "code",
   "execution_count": 66,
   "outputs": [
    {
     "data": {
      "text/plain": "OrderedDict([('weights', tensor([0.6921])), ('bias', tensor([0.2946]))])"
     },
     "execution_count": 66,
     "metadata": {},
     "output_type": "execute_result"
    },
    {
     "data": {
      "text/plain": "<Figure size 1000x700 with 1 Axes>",
      "image/png": "[encoded data removed]"
     },
     "metadata": {},
     "output_type": "display_data"
    }
   ],
   "source": [
    "plt.figure(figsize=(10,7))\n",
    "plt.scatter(X, Y, c=\"b\", s=4, label=\"Training data\")\n",
    "plt.scatter(x, y_preds, c=\"g\", s=4, label=\"testing data\")\n",
    "m1.state_dict()"
   ],
   "metadata": {
    "collapsed": false,
    "ExecuteTime": {
     "end_time": "2024-01-11T23:44:23.770595400Z",
     "start_time": "2024-01-11T23:44:23.658070200Z"
    }
   },
   "id": "e306f5a773a5ac1b"
  },
  {
   "cell_type": "markdown",
   "source": [
    "# saving model\n",
    "Saving and loading pytorch tutorial\n",
    "create a directory to do all your work in\n",
    "    model directory\n",
    "    data directory\n",
    "1. torch.save() - saves model in pythons pickle format\n",
    "2. torch.load() - loads saved object\n",
    "3. torch.nn.Module.load_sate_dict() - saves a simple dictionairy\n",
    "- Can then use kwargs and args\n",
    "4. Can also just do params\n",
    "\n",
    "# Model eval\n",
    "torchmetrics\n",
    "\n",
    "# model experimentation\n",
    "torch.utils.tensorboard"
   ],
   "metadata": {
    "collapsed": false
   },
   "id": "c36055a249f9a888"
  }
 ],
 "metadata": {
  "kernelspec": {
   "display_name": "Python 3",
   "language": "python",
   "name": "python3"
  },
  "language_info": {
   "codemirror_mode": {
    "name": "ipython",
    "version": 2
   },
   "file_extension": ".py",
   "mimetype": "text/x-python",
   "name": "python",
   "nbconvert_exporter": "python",
   "pygments_lexer": "ipython2",
   "version": "2.7.6"
  }
 },
 "nbformat": 4,
 "nbformat_minor": 5
}
