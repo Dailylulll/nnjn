{
 "cells": [
  {
   "cell_type": "markdown",
   "source": [
    "# TensorBoard notes\n",
    "- is a tensorflow lib\n",
    "- requires this magic %load_ext tensorboard\n",
    "- Log files can be initialized\n",
    "- individual logs are trials, how to aggregate data for experiment\n",
    "- log_dir = \"logs/fit/\" + datetime.datetime.now().strftime(\"%Y%m%d-%H%M%S\")\n",
    "- tensorflows callbacks are like hooks, but can be done explicitly\n",
    "- to start a tensorboard dashboard\n",
    "- %tensorboard --logdir logs/fit\n",
    "- trial/tests, trial/train\n",
    "- train_summary_writer = tf.summary.create_file_writer(train_log_dir)"
   ],
   "metadata": {
    "collapsed": false
   },
   "id": "8f3e37921bc7e430"
  }
 ],
 "metadata": {
  "kernelspec": {
   "display_name": "Python 3",
   "language": "python",
   "name": "python3"
  },
  "language_info": {
   "codemirror_mode": {
    "name": "ipython",
    "version": 2
   },
   "file_extension": ".py",
   "mimetype": "text/x-python",
   "name": "python",
   "nbconvert_exporter": "python",
   "pygments_lexer": "ipython2",
   "version": "2.7.6"
  }
 },
 "nbformat": 4,
 "nbformat_minor": 5
}
