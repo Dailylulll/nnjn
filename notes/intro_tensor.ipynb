{
 "cells": [
  {
   "cell_type": "code",
   "execution_count": 3,
   "outputs": [],
   "source": [
    "import torch\n",
    "import pandas as pd\n",
    "import numpy as np\n",
    "import matplotlib.pyplot as plt\n"
   ],
   "metadata": {
    "collapsed": false,
    "ExecuteTime": {
     "end_time": "2024-01-11T00:30:46.167497700Z",
     "start_time": "2024-01-11T00:30:46.147266800Z"
    }
   },
   "id": "affa49e56981bf1b"
  },
  {
   "cell_type": "markdown",
   "source": [
    "# Intro\n",
    "learnpytorch.io\n",
    "pytorch website\n",
    "matrixmultiplication.xyz\n",
    "timdettmer\n",
    "google machine learning handbook\n",
    "state of the art website\n",
    "\n",
    "## Ml basics\n",
    "Google machine learning handbook\n",
    "What is ml good for\n",
    "- If you can capture the system with simple rules / other ai, do that instead of ml\n",
    "- when you have large datasets\n",
    "-  when the environment constantly changes\n",
    "What is ml not good for\n",
    "- explainability\n",
    "- when a traditional approach is the better option\n",
    "- when errors are unacceptable\n",
    "- when there is not much data\n",
    "Machine learning is good for structured data (xgboost)\n",
    "- random forest\n",
    "- gradient boosted models\n",
    "- naive bayes\n",
    "- nearest neighbor\n",
    "- support vector machine\n",
    "deep learning is good for unstructured data\n",
    "\n",
    "## Neural networks\n",
    "### what are they\n",
    "- encode input data into numbers\n",
    "- create structure\n",
    "- get output\n",
    "- input layer, hidden layer, output layer\n",
    "### types of learning\n",
    "- supervised learning\n",
    "- unsup learning\n",
    "- self sup learning\n",
    "- transfer learning\n",
    "\n",
    "## Pytorch\n",
    "- deep learning framework\n",
    "- in python\n",
    "- able to access prebuilt deep learning models\n",
    "- whole stack environment \n",
    "- mind spore and browse state of the art\n",
    "\n",
    "### PyTorch workflow\n",
    "1. Encode data into tensors\n",
    "2. build / pick a model\n",
    "3. fit model to data\n",
    "4. eval model\n",
    "5. imporve model\n",
    "6. save and reload your trained model\n",
    "\n",
    "## Tensors\n",
    "- fundemental building block of pytorch\n",
    "- dimensions are the number of square brackets encasing the data\n",
    "- shape is the count of the different units in each dim\n",
    "-   shape is the attribute, size() is the function\n",
    "- scalar and vec = single lowercase letter\n",
    "- matrix and tensor = single uppercase letter\n",
    "- By convention, datatype should lead the variable name\n",
    "- Contain dim, shape, dtype, device and requires_grad variables\n",
    "- most common errors are wrong datatype, device or shape\n",
    "- \n",
    "### scalar\n",
    "- scalar = torch.tensor(7)\n",
    "- This is a single number, and therefore has zero dimensions, its just a scalar\n",
    "- ndim = 0, size = 1\n",
    "\n",
    "### Vector\n",
    "- vec = torch.tensor([1, 2, 3])\n",
    "- ndim = 1, size = 3\n",
    "\n",
    "### Matrix\n",
    "- matrix = torch.tensor([[1, 2], [2, 3]])\n",
    "- ndim = 2, size = [2, 2]\n",
    "\n",
    "### TENSPR\n",
    "- tens = torch.tensor([[[1, 2, 3], [4,5,6], [7,8,9]]])\n",
    "- ndim = 3, size = [1, 3, 3]\n",
    "\n",
    "### Creating random tensors\n",
    "- random tensors are important because initial values in nn are typically random\n",
    "\n",
    "### zeros and ones\n",
    "- useful for creating masks\n",
    "- zeros = torch.zeros(shape)\n",
    "- multiplying tensor dimensions by zeros or ones manipulates data\n",
    "- the tensors work in a similar way to numpy in this regard\n",
    "\n",
    "### torch.arange\n",
    "- creates a range of numbers like numpy\n",
    "\n",
    "### tensors like\n",
    "- copying the shape of other tensors\n",
    "- new_tensor = torch.zeros_like(input=old_tensor)\n",
    "\n",
    "### dtype\n",
    "- the datatype of the tensors\n",
    "- very common error\n",
    "- tensor.type() easy way to create a copy\n",
    "\n",
    "### Tensor operations\n",
    "- basic operations work element by element\n",
    "- as in division , multi, add and sub\n",
    "- both python operators are overloaded and library functions torch.add()\n",
    "- matrix multiplication\n",
    "-   aka dot product\n",
    "-   uses torch.matmul() or torch.mm() or @\n",
    "- always use torchversion for efficiency sake\n",
    "- matrix operaations can create shape errors\n",
    "-   inner dimensions must match\n",
    "-   (3, 2) * (3, 2) will not work inner does not match\n",
    "-   (3, 2) * (2, 3) will work, as inner dimesnion does match\n",
    "-   the resulting matrix has the shape of the outer dimensions combined\n",
    "-   Shape can be manipulated with transpose, which switches the dimesions \n",
    "-   Transpose = tensor.T\n",
    "\n",
    "### Tensor aggregation\n",
    "- finding the min max mean sum and other statistics\n",
    "- as simple as tensor.sum()\n",
    "- how about positional statistics\n",
    "-   what is the index of the max\n",
    "-   tensor.argmax()\n",
    "\n",
    "### Shaping, stacking, squeezing and unsqueezing\n",
    "- reshaping - reshapes an input tensor to a defined shape\n",
    "- view - returns a view of a tensor without changing memory\n",
    "- stack - combine multiple tensors on each other\n",
    "- squeeze - removes all 1 dimesnions from a tensor\n",
    "- unsqueeze - add a 1 dimension to a target tensor\n",
    "- permutate - permutate a tensor"
   ],
   "metadata": {
    "collapsed": false
   },
   "id": "36bac1c52e3df2b3"
  },
  {
   "cell_type": "code",
   "execution_count": null,
   "outputs": [],
   "source": [
    "RT = torch.rand(2, 2, 2)\n",
    "RT"
   ],
   "metadata": {
    "collapsed": false
   },
   "id": "95943fe5d46e54a4"
  },
  {
   "cell_type": "code",
   "execution_count": null,
   "outputs": [],
   "source": [
    "# Create random tensor similar to an image\n",
    "rand_image_tensor = torch.rand(size=(224, 224, 3))\n",
    "rand_image_tensor"
   ],
   "metadata": {
    "collapsed": false
   },
   "id": "1cb1c76b0dd0553d"
  },
  {
   "cell_type": "code",
   "execution_count": 11,
   "outputs": [
    {
     "name": "stdout",
     "output_type": "stream",
     "text": [
      "tensor([1., 2., 3., 4., 5., 6., 7., 8., 9.])\n",
      "torch.Size([9])\n"
     ]
    },
    {
     "data": {
      "text/plain": "torch.Size([1, 9])"
     },
     "execution_count": 11,
     "metadata": {},
     "output_type": "execute_result"
    }
   ],
   "source": [
    "# tensor shape manipulations\n",
    "# has to be a factor of the total element size of the tensor\n",
    "x = torch.arange(1., 10.)\n",
    "print(x)\n",
    "print(x.shape)\n",
    "x_reshape = x.reshape([1, 9])\n",
    "x_reshape.shape"
   ],
   "metadata": {
    "collapsed": false,
    "ExecuteTime": {
     "end_time": "2024-01-11T02:22:16.750414900Z",
     "start_time": "2024-01-11T02:22:16.723761700Z"
    }
   },
   "id": "493fdeb1dd3256fd"
  },
  {
   "cell_type": "code",
   "execution_count": 12,
   "outputs": [
    {
     "data": {
      "text/plain": "(tensor([[1., 2., 3.],\n         [4., 5., 6.],\n         [7., 8., 9.]]),\n torch.Size([3, 3]))"
     },
     "execution_count": 12,
     "metadata": {},
     "output_type": "execute_result"
    }
   ],
   "source": [
    "# if youre using view, if you change the underlying data, that change will be relfected on the view\n",
    "# the view itself cannot be chaged\n",
    "z = x.view(3, 3)\n",
    "z, z.shape"
   ],
   "metadata": {
    "collapsed": false,
    "ExecuteTime": {
     "end_time": "2024-01-11T02:24:14.355517300Z",
     "start_time": "2024-01-11T02:24:14.332550800Z"
    }
   },
   "id": "a2142f29abc5138"
  },
  {
   "cell_type": "code",
   "execution_count": 15,
   "outputs": [
    {
     "data": {
      "text/plain": "tensor([[1., 1., 1.],\n        [2., 2., 2.],\n        [3., 3., 3.],\n        [4., 4., 4.],\n        [5., 5., 5.],\n        [6., 6., 6.],\n        [7., 7., 7.],\n        [8., 8., 8.],\n        [9., 9., 9.]])"
     },
     "execution_count": 15,
     "metadata": {},
     "output_type": "execute_result"
    }
   ],
   "source": [
    "x_stack = torch.stack([x, x, x], dim=1)\n",
    "x_stack"
   ],
   "metadata": {
    "collapsed": false,
    "ExecuteTime": {
     "end_time": "2024-01-11T02:26:09.312792900Z",
     "start_time": "2024-01-11T02:26:09.282264Z"
    }
   },
   "id": "12d7fd636bed7cfd"
  },
  {
   "cell_type": "code",
   "execution_count": 16,
   "outputs": [
    {
     "data": {
      "text/plain": "tensor([[1., 2., 3., 4., 5., 6., 7., 8., 9.],\n        [1., 2., 3., 4., 5., 6., 7., 8., 9.],\n        [1., 2., 3., 4., 5., 6., 7., 8., 9.]])"
     },
     "execution_count": 16,
     "metadata": {},
     "output_type": "execute_result"
    }
   ],
   "source": [
    "x_stack_2 = torch.stack([x,x,x])\n",
    "x_stack_2"
   ],
   "metadata": {
    "collapsed": false,
    "ExecuteTime": {
     "end_time": "2024-01-11T02:26:43.471642500Z",
     "start_time": "2024-01-11T02:26:43.420176800Z"
    }
   },
   "id": "21b9686e76ab4bbb"
  },
  {
   "cell_type": "code",
   "execution_count": 34,
   "outputs": [
    {
     "name": "stdout",
     "output_type": "stream",
     "text": [
      "tensor([[1., 2., 3., 4., 5., 6., 7., 8., 9.]])\n",
      "tensor([1., 2., 3., 4., 5., 6., 7., 8., 9.])\n",
      "tensor([[[1.],\n",
      "         [2.],\n",
      "         [3.],\n",
      "         [4.],\n",
      "         [5.],\n",
      "         [6.],\n",
      "         [7.],\n",
      "         [8.],\n",
      "         [9.]]])\n"
     ]
    }
   ],
   "source": [
    "print(x_reshape)\n",
    "print(x_reshape.squeeze())\n",
    "print(x_reshape.unsqueeze(dim=-1))  # unsqueeze goes from the outside in, so dim=2 unsqueezes the scalars\n",
    "# a negative dim goes in the opposite direction, from last dim to newest\n",
    "# dim reads the shape of the tensor, left to right or right to left, left being the most encapuslating dimension"
   ],
   "metadata": {
    "collapsed": false,
    "ExecuteTime": {
     "end_time": "2024-01-11T02:33:17.246839Z",
     "start_time": "2024-01-11T02:33:17.210502100Z"
    }
   },
   "id": "bff2eed433d1aa9d"
  },
  {
   "cell_type": "code",
   "execution_count": 36,
   "outputs": [
    {
     "data": {
      "text/plain": "(torch.Size([1, 2, 3]), torch.Size([3, 1, 2]))"
     },
     "execution_count": 36,
     "metadata": {},
     "output_type": "execute_result"
    }
   ],
   "source": [
    "# Permute changes the permutation of the shape of tensor\n",
    "y = torch.rand(1, 2, 3)\n",
    "y_permute = y.permute(2, 0, 1)\n",
    "y.shape, y_permute.shape"
   ],
   "metadata": {
    "collapsed": false,
    "ExecuteTime": {
     "end_time": "2024-01-11T02:37:59.087396400Z",
     "start_time": "2024-01-11T02:37:59.079305200Z"
    }
   },
   "id": "7d2fc19fcf43551a"
  },
  {
   "cell_type": "code",
   "execution_count": 40,
   "outputs": [
    {
     "data": {
      "text/plain": "(tensor([[[1, 2, 3],\n          [4, 5, 6],\n          [7, 8, 9]]]),\n tensor([[1, 2, 3],\n         [4, 5, 6],\n         [7, 8, 9]]),\n tensor([1, 2, 3]),\n tensor(9))"
     },
     "execution_count": 40,
     "metadata": {},
     "output_type": "execute_result"
    }
   ],
   "source": [
    "# indexing with pytorch is similar to indexing with numpy\n",
    "x = torch.arange(1, 10).reshape(1, 3, 3)\n",
    "x,  x[0], x[0, 0], x[0, 2, 2],"
   ],
   "metadata": {
    "collapsed": false,
    "ExecuteTime": {
     "end_time": "2024-01-11T02:42:11.461820400Z",
     "start_time": "2024-01-11T02:42:11.453862900Z"
    }
   },
   "id": "d7b8b086db197183"
  },
  {
   "cell_type": "code",
   "execution_count": 45,
   "outputs": [
    {
     "data": {
      "text/plain": "(tensor([[1, 4, 7]]), tensor([[4, 5, 6]]))"
     },
     "execution_count": 45,
     "metadata": {},
     "output_type": "execute_result"
    }
   ],
   "source": [
    "# semicolon selects the entire dimension\n",
    "# first gets whole tensor, next gets whole tensor again, last grabs the zeroeth column\n",
    "x[:, :, 0], x[:, 1, :]"
   ],
   "metadata": {
    "collapsed": false,
    "ExecuteTime": {
     "end_time": "2024-01-11T02:44:59.546576200Z",
     "start_time": "2024-01-11T02:44:59.529309500Z"
    }
   },
   "id": "4b1ad550c5a3ac3b"
  },
  {
   "cell_type": "markdown",
   "source": [
    "pytorch and numpy\n",
    "\n",
    "torch.from_numpy(ndarray)\n",
    "numpys default dtype is float64, must change for torch"
   ],
   "metadata": {
    "collapsed": false
   },
   "id": "23abf40bc148db38"
  },
  {
   "cell_type": "markdown",
   "source": [
    "Reproducability, taking the random out of random\n",
    "to reduce randomness, use seeds\n",
    "\n",
    "torch.manual_seed(SEED)\n",
    "torch.rand(shape)\n",
    "\n",
    "for using gpu\n",
    "check if cuda is available\n",
    "count number of devices\n",
    "device agnostic code doc on pytorch"
   ],
   "metadata": {
    "collapsed": false
   },
   "id": "8cccac7df5a29aea"
  },
  {
   "cell_type": "code",
   "execution_count": 47,
   "outputs": [
    {
     "data": {
      "text/plain": "(tensor([1, 2, 3]), device(type='cpu'))"
     },
     "execution_count": 47,
     "metadata": {},
     "output_type": "execute_result"
    }
   ],
   "source": [
    "device = \"cuda\" if torch.cuda.is_available() else \"cpu\"\n",
    "tensor = torch.tensor([1, 2, 3])\n",
    "tensor.to(device)\n",
    "tensor, tensor.device"
   ],
   "metadata": {
    "collapsed": false,
    "ExecuteTime": {
     "end_time": "2024-01-11T04:47:15.948162Z",
     "start_time": "2024-01-11T04:47:15.905443800Z"
    }
   },
   "id": "f81e9e8357c06532"
  },
  {
   "cell_type": "code",
   "execution_count": 48,
   "outputs": [
    {
     "data": {
      "text/plain": "device(type='cpu')"
     },
     "execution_count": 48,
     "metadata": {},
     "output_type": "execute_result"
    }
   ],
   "source": [
    "# moving tensor back to cpu\n",
    "tensor.cpu().device"
   ],
   "metadata": {
    "collapsed": false,
    "ExecuteTime": {
     "end_time": "2024-01-11T04:48:53.219761900Z",
     "start_time": "2024-01-11T04:48:53.176199700Z"
    }
   },
   "id": "4fed032229af5a28"
  },
  {
   "cell_type": "code",
   "execution_count": null,
   "outputs": [],
   "source": [],
   "metadata": {
    "collapsed": false
   },
   "id": "4376692c5739fcc9"
  }
 ],
 "metadata": {
  "kernelspec": {
   "display_name": "Python 3",
   "language": "python",
   "name": "python3"
  },
  "language_info": {
   "codemirror_mode": {
    "name": "ipython",
    "version": 2
   },
   "file_extension": ".py",
   "mimetype": "text/x-python",
   "name": "python",
   "nbconvert_exporter": "python",
   "pygments_lexer": "ipython2",
   "version": "2.7.6"
  }
 },
 "nbformat": 4,
 "nbformat_minor": 5
}
