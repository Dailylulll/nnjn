{
 "cells": [
  {
   "cell_type": "code",
   "execution_count": 40,
   "id": "initial_id",
   "metadata": {
    "collapsed": true,
    "ExecuteTime": {
     "end_time": "2024-01-28T03:11:01.222535600Z",
     "start_time": "2024-01-28T03:11:01.174425600Z"
    }
   },
   "outputs": [],
   "source": [
    "import numpy as np\n",
    "import os"
   ]
  },
  {
   "cell_type": "markdown",
   "source": [
    "https://www.kaggle.com/datasets/hojjatk/mnist-dataset"
   ],
   "metadata": {
    "collapsed": false
   },
   "id": "825c5f1c45f8a107"
  },
  {
   "cell_type": "code",
   "execution_count": 41,
   "outputs": [
    {
     "data": {
      "text/plain": "'C:\\\\Users\\\\Daily\\\\mynn\\\\nn_project_1\\\\mnist\\\\data'"
     },
     "execution_count": 41,
     "metadata": {},
     "output_type": "execute_result"
    }
   ],
   "source": [
    "file_train_data = 'train-images.idx3-ubyte'\n",
    "file_train_label = 'train-labels.idx1-ubyte'\n",
    "file_test_data = 't10k-images.idx3-ubyte'\n",
    "file_test_label = 't10k-labels.idx1-ubyte'\n",
    "\n",
    "os.getcwd()"
   ],
   "metadata": {
    "collapsed": false,
    "ExecuteTime": {
     "end_time": "2024-01-28T03:11:01.325067400Z",
     "start_time": "2024-01-28T03:11:01.199218800Z"
    }
   },
   "id": "58bd0ae40e3f3b31"
  },
  {
   "cell_type": "code",
   "execution_count": 42,
   "outputs": [
    {
     "data": {
      "text/plain": "(60000, 60000)"
     },
     "execution_count": 42,
     "metadata": {},
     "output_type": "execute_result"
    }
   ],
   "source": [
    "with open(file_train_label, 'rb') as file:\n",
    "    _ = int.from_bytes(file.read(4), 'big')\n",
    "    num_items = int.from_bytes(file.read(4), 'big')\n",
    "    data = file.read()\n",
    "    np_train_label = np.frombuffer(data, dtype=np.uint8)\n",
    "\n",
    "num_items, len(np_train_label)"
   ],
   "metadata": {
    "collapsed": false,
    "ExecuteTime": {
     "end_time": "2024-01-28T03:11:01.325067400Z",
     "start_time": "2024-01-28T03:11:01.214540Z"
    }
   },
   "id": "65fe544e9b2d4cf8"
  },
  {
   "cell_type": "code",
   "execution_count": 43,
   "outputs": [
    {
     "data": {
      "text/plain": "(10000, 10000)"
     },
     "execution_count": 43,
     "metadata": {},
     "output_type": "execute_result"
    }
   ],
   "source": [
    "with open(file_test_label, 'rb') as file:\n",
    "    _ = int.from_bytes(file.read(4), 'big')\n",
    "    num_items = int.from_bytes(file.read(4), 'big')\n",
    "    data = file.read()\n",
    "    np_test_label = np.frombuffer(data, dtype=np.uint8)\n",
    "\n",
    "num_items, len(np_test_label)\n"
   ],
   "metadata": {
    "collapsed": false,
    "ExecuteTime": {
     "end_time": "2024-01-28T03:11:01.344756800Z",
     "start_time": "2024-01-28T03:11:01.225655Z"
    }
   },
   "id": "e5e45262f7ac7501"
  },
  {
   "cell_type": "code",
   "execution_count": 44,
   "outputs": [
    {
     "data": {
      "text/plain": "(60000, 60000)"
     },
     "execution_count": 44,
     "metadata": {},
     "output_type": "execute_result"
    }
   ],
   "source": [
    "with open(file_train_data, 'rb') as file:\n",
    "    _ = int.from_bytes(file.read(4), 'big')\n",
    "    num_items = int.from_bytes(file.read(4), 'big')\n",
    "    num_rows = int.from_bytes(file.read(4), 'big')\n",
    "    num_cols = int.from_bytes(file.read(4), 'big')\n",
    "    data = file.read()\n",
    "    \n",
    "    np_train_data = np.frombuffer(data, dtype=np.uint8).reshape(num_items, num_rows, num_cols)\n",
    "\n",
    "num_items, len(np_train_data)"
   ],
   "metadata": {
    "collapsed": false,
    "ExecuteTime": {
     "end_time": "2024-01-28T03:11:01.344756800Z",
     "start_time": "2024-01-28T03:11:01.233551800Z"
    }
   },
   "id": "3cee1f85c5d4c119"
  },
  {
   "cell_type": "code",
   "execution_count": 45,
   "outputs": [
    {
     "data": {
      "text/plain": "(10000, 10000)"
     },
     "execution_count": 45,
     "metadata": {},
     "output_type": "execute_result"
    }
   ],
   "source": [
    "with open(file_test_data, 'rb') as file:\n",
    "    _ = int.from_bytes(file.read(4), 'big')\n",
    "    num_items = int.from_bytes(file.read(4), 'big')\n",
    "    num_rows = int.from_bytes(file.read(4), 'big')\n",
    "    num_cols = int.from_bytes(file.read(4), 'big')\n",
    "    data = file.read()\n",
    "    \n",
    "    np_test_data = np.frombuffer(data, dtype=np.uint8).reshape(num_items, num_rows, num_cols)\n",
    "\n",
    "num_items, len(np_test_data)"
   ],
   "metadata": {
    "collapsed": false,
    "ExecuteTime": {
     "end_time": "2024-01-28T03:11:01.345838400Z",
     "start_time": "2024-01-28T03:11:01.278887500Z"
    }
   },
   "id": "acc64dd8ae7229d6"
  },
  {
   "cell_type": "code",
   "execution_count": 46,
   "outputs": [],
   "source": [
    "# split test set into valid and test set\n",
    "\n",
    "from sklearn.model_selection import train_test_split\n",
    "\n",
    "np_test_data, np_valid_data, np_test_label, np_valid_label = train_test_split(np_test_data, np_test_label, test_size=0.5)"
   ],
   "metadata": {
    "collapsed": false,
    "ExecuteTime": {
     "end_time": "2024-01-28T03:11:01.345838400Z",
     "start_time": "2024-01-28T03:11:01.295103600Z"
    }
   },
   "id": "6e6a431b166c3970"
  },
  {
   "cell_type": "code",
   "execution_count": 47,
   "outputs": [],
   "source": [
    "# let us convert every pixel not zero to 1 to create binary input\n",
    "threshold_train_images = np.copy(np_train_data)\n",
    "threshold_test_images = np.copy(np_test_data)\n",
    "threshold_valid_images = np.copy(np_valid_data)\n",
    "\n",
    "\n",
    "threshold_train_images[threshold_train_images > 0] = 1\n",
    "threshold_test_images[threshold_test_images > 0] = 1\n",
    "threshold_valid_images[threshold_valid_images > 0] = 1\n",
    "    "
   ],
   "metadata": {
    "collapsed": false,
    "ExecuteTime": {
     "end_time": "2024-01-28T03:11:01.447942800Z",
     "start_time": "2024-01-28T03:11:01.304758700Z"
    }
   },
   "id": "ac8572b9cfbde362"
  },
  {
   "cell_type": "code",
   "execution_count": 48,
   "outputs": [
    {
     "data": {
      "text/plain": "'import matplotlib.pyplot as plt\\n\\nfor i in range(10):\\n\\n    plt.imshow(threshold_train_images[i], cmap=\\'gray\\')\\n    plt.title(f\"Label: {file_train_label_list[i]}\")\\n    plt.show()\\n    \\n    plt.imshow(train_images[i], cmap=\\'gray\\')\\n    plt.title(f\"Label: {file_train_label_list[i]}\")\\n    plt.show()'"
     },
     "execution_count": 48,
     "metadata": {},
     "output_type": "execute_result"
    }
   ],
   "source": [
    "# lets do a quick comparison\n",
    "# check your data dependencies\n",
    "\n",
    "'''import matplotlib.pyplot as plt\n",
    "\n",
    "for i in range(10):\n",
    "\n",
    "    plt.imshow(threshold_train_images[i], cmap='gray')\n",
    "    plt.title(f\"Label: {file_train_label_list[i]}\")\n",
    "    plt.show()\n",
    "    \n",
    "    plt.imshow(train_images[i], cmap='gray')\n",
    "    plt.title(f\"Label: {file_train_label_list[i]}\")\n",
    "    plt.show()'''"
   ],
   "metadata": {
    "collapsed": false,
    "ExecuteTime": {
     "end_time": "2024-01-28T03:11:01.475010500Z",
     "start_time": "2024-01-28T03:11:01.397941900Z"
    }
   },
   "id": "25a4224c55349fa9"
  },
  {
   "cell_type": "code",
   "execution_count": 48,
   "outputs": [],
   "source": [],
   "metadata": {
    "collapsed": false,
    "ExecuteTime": {
     "end_time": "2024-01-28T03:11:01.475010500Z",
     "start_time": "2024-01-28T03:11:01.403941800Z"
    }
   },
   "id": "c972bbf85adfbf6b"
  },
  {
   "cell_type": "code",
   "execution_count": 49,
   "outputs": [],
   "source": [
    "# let us convert them all to tensors\n",
    "import torch\n",
    "\n",
    "tensor_train_label = torch.tensor(np_train_label, requires_grad=False).to(torch.long)\n",
    "tensor_test_label = torch.tensor(np_test_label, requires_grad=False).to(torch.long)\n",
    "tensor_valid_label = torch.tensor(np_valid_label, requires_grad=False).to(torch.long)\n",
    "\n",
    "tensor_train_data = torch.tensor(np_train_data, requires_grad=False)\n",
    "tensor_test_data = torch.tensor(np_test_data, requires_grad=False)\n",
    "tensor_valid_data = torch.tensor(np_valid_data, requires_grad=False)\n",
    "\n",
    "tensor_train_thresh = torch.tensor(threshold_train_images, requires_grad=False)\n",
    "tensor_test_thresh = torch.tensor(threshold_test_images, requires_grad=False)\n",
    "tensor_valid_thresh = torch.tensor(threshold_valid_images, requires_grad=False)\n"
   ],
   "metadata": {
    "collapsed": false,
    "ExecuteTime": {
     "end_time": "2024-01-28T03:11:01.476011200Z",
     "start_time": "2024-01-28T03:11:01.412269300Z"
    }
   },
   "id": "e73a178c875d0e4e"
  },
  {
   "cell_type": "code",
   "execution_count": 50,
   "outputs": [],
   "source": [
    "# one hot encoding for classification\n",
    "\n",
    "import torch.nn.functional as F\n",
    "\n",
    "num_classes = 10\n",
    "\n",
    "tensor_train_label = F.one_hot(tensor_train_label, num_classes=num_classes)\n",
    "tensor_test_label = F.one_hot(tensor_test_label, num_classes=num_classes)\n",
    "tensor_valid_label = F.one_hot(tensor_valid_label, num_classes=num_classes)"
   ],
   "metadata": {
    "collapsed": false,
    "ExecuteTime": {
     "end_time": "2024-01-28T03:11:01.476011200Z",
     "start_time": "2024-01-28T03:11:01.438109100Z"
    }
   },
   "id": "e8edd0445da80f25"
  },
  {
   "cell_type": "code",
   "execution_count": 51,
   "outputs": [],
   "source": [
    "# lets save, \n",
    "\n",
    "torch.save({'train_label': tensor_train_label, 'test_label':tensor_test_label, 'valid_label': tensor_valid_label, 'train_data': tensor_train_data, 'test_data': tensor_test_data, 'valid_data': tensor_valid_data}, 'mnist_tensor_dict.pt')\n",
    "\n",
    "torch.save({'train_label': tensor_train_label, 'test_label':tensor_test_label, 'valid_label': tensor_valid_label, 'train_data': tensor_train_thresh, 'test_data':tensor_test_thresh, 'valid_data': tensor_valid_thresh }, 'mnist_thresh_tensor_dict.pt')"
   ],
   "metadata": {
    "collapsed": false,
    "ExecuteTime": {
     "end_time": "2024-01-28T03:11:01.642634600Z",
     "start_time": "2024-01-28T03:11:01.641628800Z"
    }
   },
   "id": "6981d47baf612110"
  },
  {
   "cell_type": "code",
   "execution_count": 52,
   "outputs": [
    {
     "data": {
      "text/plain": "7"
     },
     "execution_count": 52,
     "metadata": {},
     "output_type": "execute_result"
    }
   ],
   "source": [
    "7"
   ],
   "metadata": {
    "collapsed": false,
    "ExecuteTime": {
     "end_time": "2024-01-28T03:11:01.654120600Z",
     "start_time": "2024-01-28T03:11:01.645886400Z"
    }
   },
   "id": "246a8cc73e525898"
  },
  {
   "cell_type": "code",
   "execution_count": null,
   "outputs": [],
   "source": [
    "# vestiges\n",
    "\n"
   ],
   "metadata": {
    "collapsed": false
   },
   "id": "4a600faab523c533"
  }
 ],
 "metadata": {
  "kernelspec": {
   "display_name": "Python 3",
   "language": "python",
   "name": "python3"
  },
  "language_info": {
   "codemirror_mode": {
    "name": "ipython",
    "version": 2
   },
   "file_extension": ".py",
   "mimetype": "text/x-python",
   "name": "python",
   "nbconvert_exporter": "python",
   "pygments_lexer": "ipython2",
   "version": "2.7.6"
  }
 },
 "nbformat": 4,
 "nbformat_minor": 5
}
