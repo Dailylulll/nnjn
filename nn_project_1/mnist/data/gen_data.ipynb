{
 "cells": [
  {
   "cell_type": "code",
   "execution_count": 64,
   "id": "initial_id",
   "metadata": {
    "collapsed": true,
    "ExecuteTime": {
     "end_time": "2024-01-24T21:38:30.794682900Z",
     "start_time": "2024-01-24T21:38:30.750881400Z"
    }
   },
   "outputs": [],
   "source": [
    "import numpy as np\n",
    "import os"
   ]
  },
  {
   "cell_type": "markdown",
   "source": [
    "https://www.kaggle.com/datasets/hojjatk/mnist-dataset"
   ],
   "metadata": {
    "collapsed": false
   },
   "id": "825c5f1c45f8a107"
  },
  {
   "cell_type": "code",
   "execution_count": 65,
   "outputs": [
    {
     "data": {
      "text/plain": "'C:\\\\Users\\\\Daily\\\\mynn\\\\mnist\\\\data'"
     },
     "execution_count": 65,
     "metadata": {},
     "output_type": "execute_result"
    }
   ],
   "source": [
    "file_train_data = 'train-images.idx3-ubyte'\n",
    "file_train_label = 'train-labels.idx1-ubyte'\n",
    "file_test_data = 't10k-images.idx3-ubyte'\n",
    "file_test_label = 't10k-labels.idx1-ubyte'\n",
    "\n",
    "os.getcwd()"
   ],
   "metadata": {
    "collapsed": false,
    "ExecuteTime": {
     "end_time": "2024-01-24T21:38:30.843823500Z",
     "start_time": "2024-01-24T21:38:30.760825200Z"
    }
   },
   "id": "58bd0ae40e3f3b31"
  },
  {
   "cell_type": "code",
   "execution_count": 66,
   "outputs": [
    {
     "data": {
      "text/plain": "(60000, 60000)"
     },
     "execution_count": 66,
     "metadata": {},
     "output_type": "execute_result"
    }
   ],
   "source": [
    "with open(file_train_label, 'rb') as file:\n",
    "    _ = int.from_bytes(file.read(4), 'big')\n",
    "    num_items = int.from_bytes(file.read(4), 'big')\n",
    "    data = file.read()\n",
    "    np_train_label = np.frombuffer(data, dtype=np.uint8)\n",
    "\n",
    "num_items, len(np_train_label)"
   ],
   "metadata": {
    "collapsed": false,
    "ExecuteTime": {
     "end_time": "2024-01-24T21:38:30.843823500Z",
     "start_time": "2024-01-24T21:38:30.766752100Z"
    }
   },
   "id": "65fe544e9b2d4cf8"
  },
  {
   "cell_type": "code",
   "execution_count": 67,
   "outputs": [
    {
     "data": {
      "text/plain": "(10000, 10000)"
     },
     "execution_count": 67,
     "metadata": {},
     "output_type": "execute_result"
    }
   ],
   "source": [
    "with open(file_test_label, 'rb') as file:\n",
    "    _ = int.from_bytes(file.read(4), 'big')\n",
    "    num_items = int.from_bytes(file.read(4), 'big')\n",
    "    data = file.read()\n",
    "    np_test_label = np.frombuffer(data, dtype=np.uint8)\n",
    "\n",
    "num_items, len(np_test_label)\n"
   ],
   "metadata": {
    "collapsed": false,
    "ExecuteTime": {
     "end_time": "2024-01-24T21:38:30.890283Z",
     "start_time": "2024-01-24T21:38:30.774645100Z"
    }
   },
   "id": "e5e45262f7ac7501"
  },
  {
   "cell_type": "code",
   "execution_count": 68,
   "outputs": [
    {
     "data": {
      "text/plain": "(60000, 60000)"
     },
     "execution_count": 68,
     "metadata": {},
     "output_type": "execute_result"
    }
   ],
   "source": [
    "with open(file_train_data, 'rb') as file:\n",
    "    _ = int.from_bytes(file.read(4), 'big')\n",
    "    num_items = int.from_bytes(file.read(4), 'big')\n",
    "    num_rows = int.from_bytes(file.read(4), 'big')\n",
    "    num_cols = int.from_bytes(file.read(4), 'big')\n",
    "    data = file.read()\n",
    "    \n",
    "    train_images = np.frombuffer(data, dtype=np.uint8).reshape(num_items, num_rows, num_cols)\n",
    "\n",
    "num_items, len(train_images)"
   ],
   "metadata": {
    "collapsed": false,
    "ExecuteTime": {
     "end_time": "2024-01-24T21:38:30.900657900Z",
     "start_time": "2024-01-24T21:38:30.784808300Z"
    }
   },
   "id": "3cee1f85c5d4c119"
  },
  {
   "cell_type": "code",
   "execution_count": 69,
   "outputs": [
    {
     "data": {
      "text/plain": "(10000,\n 10000,\n array([[  0,   0,   0,   0,   0,   0,   0,   0,   0,   0,   0,   0,   0,\n           0,   0,   0,   0,   0,   0,   0,   0,   0,   0,   0,   0,   0,\n           0,   0],\n        [  0,   0,   0,   0,   0,   0,   0,   0,   0,   0,   0,   0,   0,\n           0,   0,   0,   0,   0,   0,   0,   0,   0,   0,   0,   0,   0,\n           0,   0],\n        [  0,   0,   0,   0,   0,   0,   0,   0,   0,   0,   0,   0,   0,\n           0,   0,   0,   0,   0,   0,   0,   0,   0,   0,   0,   0,   0,\n           0,   0],\n        [  0,   0,   0,   0,   0,   0,   0,   0,   0,   0,   0,   0,   0,\n           0,   0,   0,   0,   0,   0,   0,   0,   0,   0,   0,   0,   0,\n           0,   0],\n        [  0,   0,   0,   0,   0,   0,   0,   0,   0,   0,   0,   0,   0,\n           0,   0,   0,   0,   0,   0,   0,   0,   0,   0,   0,   0,   0,\n           0,   0],\n        [  0,   0,   0,   0,   0,   0,   0,   0,   0,   0,   0,   0,   0,\n           0,   0,   0,   0,   0,   0,   0,   0,   0,   0,   0,   0,   0,\n           0,   0],\n        [  0,   0,   0,   0,   0,   0,   0,   0,   0,   0,   0,   0,   0,\n           0,   0,   0,   0,   0,   0,   0,   0,   0,   0,   0,   0,   0,\n           0,   0],\n        [  0,   0,   0,   0,   0,   0,  84, 185, 159, 151,  60,  36,   0,\n           0,   0,   0,   0,   0,   0,   0,   0,   0,   0,   0,   0,   0,\n           0,   0],\n        [  0,   0,   0,   0,   0,   0, 222, 254, 254, 254, 254, 241, 198,\n         198, 198, 198, 198, 198, 198, 198, 170,  52,   0,   0,   0,   0,\n           0,   0],\n        [  0,   0,   0,   0,   0,   0,  67, 114,  72, 114, 163, 227, 254,\n         225, 254, 254, 254, 250, 229, 254, 254, 140,   0,   0,   0,   0,\n           0,   0],\n        [  0,   0,   0,   0,   0,   0,   0,   0,   0,   0,   0,  17,  66,\n          14,  67,  67,  67,  59,  21, 236, 254, 106,   0,   0,   0,   0,\n           0,   0],\n        [  0,   0,   0,   0,   0,   0,   0,   0,   0,   0,   0,   0,   0,\n           0,   0,   0,   0,   0,  83, 253, 209,  18,   0,   0,   0,   0,\n           0,   0],\n        [  0,   0,   0,   0,   0,   0,   0,   0,   0,   0,   0,   0,   0,\n           0,   0,   0,   0,  22, 233, 255,  83,   0,   0,   0,   0,   0,\n           0,   0],\n        [  0,   0,   0,   0,   0,   0,   0,   0,   0,   0,   0,   0,   0,\n           0,   0,   0,   0, 129, 254, 238,  44,   0,   0,   0,   0,   0,\n           0,   0],\n        [  0,   0,   0,   0,   0,   0,   0,   0,   0,   0,   0,   0,   0,\n           0,   0,   0,  59, 249, 254,  62,   0,   0,   0,   0,   0,   0,\n           0,   0],\n        [  0,   0,   0,   0,   0,   0,   0,   0,   0,   0,   0,   0,   0,\n           0,   0,   0, 133, 254, 187,   5,   0,   0,   0,   0,   0,   0,\n           0,   0],\n        [  0,   0,   0,   0,   0,   0,   0,   0,   0,   0,   0,   0,   0,\n           0,   0,   9, 205, 248,  58,   0,   0,   0,   0,   0,   0,   0,\n           0,   0],\n        [  0,   0,   0,   0,   0,   0,   0,   0,   0,   0,   0,   0,   0,\n           0,   0, 126, 254, 182,   0,   0,   0,   0,   0,   0,   0,   0,\n           0,   0],\n        [  0,   0,   0,   0,   0,   0,   0,   0,   0,   0,   0,   0,   0,\n           0,  75, 251, 240,  57,   0,   0,   0,   0,   0,   0,   0,   0,\n           0,   0],\n        [  0,   0,   0,   0,   0,   0,   0,   0,   0,   0,   0,   0,   0,\n          19, 221, 254, 166,   0,   0,   0,   0,   0,   0,   0,   0,   0,\n           0,   0],\n        [  0,   0,   0,   0,   0,   0,   0,   0,   0,   0,   0,   0,   3,\n         203, 254, 219,  35,   0,   0,   0,   0,   0,   0,   0,   0,   0,\n           0,   0],\n        [  0,   0,   0,   0,   0,   0,   0,   0,   0,   0,   0,   0,  38,\n         254, 254,  77,   0,   0,   0,   0,   0,   0,   0,   0,   0,   0,\n           0,   0],\n        [  0,   0,   0,   0,   0,   0,   0,   0,   0,   0,   0,  31, 224,\n         254, 115,   1,   0,   0,   0,   0,   0,   0,   0,   0,   0,   0,\n           0,   0],\n        [  0,   0,   0,   0,   0,   0,   0,   0,   0,   0,   0, 133, 254,\n         254,  52,   0,   0,   0,   0,   0,   0,   0,   0,   0,   0,   0,\n           0,   0],\n        [  0,   0,   0,   0,   0,   0,   0,   0,   0,   0,  61, 242, 254,\n         254,  52,   0,   0,   0,   0,   0,   0,   0,   0,   0,   0,   0,\n           0,   0],\n        [  0,   0,   0,   0,   0,   0,   0,   0,   0,   0, 121, 254, 254,\n         219,  40,   0,   0,   0,   0,   0,   0,   0,   0,   0,   0,   0,\n           0,   0],\n        [  0,   0,   0,   0,   0,   0,   0,   0,   0,   0, 121, 254, 207,\n          18,   0,   0,   0,   0,   0,   0,   0,   0,   0,   0,   0,   0,\n           0,   0],\n        [  0,   0,   0,   0,   0,   0,   0,   0,   0,   0,   0,   0,   0,\n           0,   0,   0,   0,   0,   0,   0,   0,   0,   0,   0,   0,   0,\n           0,   0]], dtype=uint8))"
     },
     "execution_count": 69,
     "metadata": {},
     "output_type": "execute_result"
    }
   ],
   "source": [
    "with open(file_test_data, 'rb') as file:\n",
    "    _ = int.from_bytes(file.read(4), 'big')\n",
    "    num_items = int.from_bytes(file.read(4), 'big')\n",
    "    num_rows = int.from_bytes(file.read(4), 'big')\n",
    "    num_cols = int.from_bytes(file.read(4), 'big')\n",
    "    data = file.read()\n",
    "    \n",
    "    test_images = np.frombuffer(data, dtype=np.uint8).reshape(num_items, num_rows, num_cols)\n",
    "\n",
    "num_items, len(test_images), test_images[0]"
   ],
   "metadata": {
    "collapsed": false,
    "ExecuteTime": {
     "end_time": "2024-01-24T21:38:30.901170600Z",
     "start_time": "2024-01-24T21:38:30.826301200Z"
    }
   },
   "id": "acc64dd8ae7229d6"
  },
  {
   "cell_type": "code",
   "execution_count": 70,
   "outputs": [],
   "source": [
    "# lets convert every pixel not zero to 1 to create binary input\n",
    "threshold_train_images = np.copy(train_images)\n",
    "threshold_test_images = np.copy(test_images)\n",
    "\n",
    "\n",
    "threshold_train_images[threshold_train_images > 0] = 1\n",
    "threshold_test_images[threshold_test_images > 0] = 1\n",
    "    "
   ],
   "metadata": {
    "collapsed": false,
    "ExecuteTime": {
     "end_time": "2024-01-24T21:38:31.016532Z",
     "start_time": "2024-01-24T21:38:30.842243100Z"
    }
   },
   "id": "ac8572b9cfbde362"
  },
  {
   "cell_type": "code",
   "execution_count": 71,
   "outputs": [
    {
     "data": {
      "text/plain": "'import matplotlib.pyplot as plt\\n\\nfor i in range(10):\\n\\n    plt.imshow(threshold_train_images[i], cmap=\\'gray\\')\\n    plt.title(f\"Label: {file_train_label_list[i]}\")\\n    plt.show()\\n    \\n    plt.imshow(train_images[i], cmap=\\'gray\\')\\n    plt.title(f\"Label: {file_train_label_list[i]}\")\\n    plt.show()'"
     },
     "execution_count": 71,
     "metadata": {},
     "output_type": "execute_result"
    }
   ],
   "source": [
    "# lets do a quick comparison\n",
    "# check your data dependencies\n",
    "\n",
    "'''import matplotlib.pyplot as plt\n",
    "\n",
    "for i in range(10):\n",
    "\n",
    "    plt.imshow(threshold_train_images[i], cmap='gray')\n",
    "    plt.title(f\"Label: {file_train_label_list[i]}\")\n",
    "    plt.show()\n",
    "    \n",
    "    plt.imshow(train_images[i], cmap='gray')\n",
    "    plt.title(f\"Label: {file_train_label_list[i]}\")\n",
    "    plt.show()'''"
   ],
   "metadata": {
    "collapsed": false,
    "ExecuteTime": {
     "end_time": "2024-01-24T21:38:31.020654100Z",
     "start_time": "2024-01-24T21:38:30.925575700Z"
    }
   },
   "id": "25a4224c55349fa9"
  },
  {
   "cell_type": "code",
   "execution_count": 72,
   "outputs": [],
   "source": [],
   "metadata": {
    "collapsed": false,
    "ExecuteTime": {
     "end_time": "2024-01-24T21:38:31.021162800Z",
     "start_time": "2024-01-24T21:38:30.931845300Z"
    }
   },
   "id": "c972bbf85adfbf6b"
  },
  {
   "cell_type": "code",
   "execution_count": 73,
   "outputs": [],
   "source": [
    "# lets convert them all to tensors\n",
    "import torch\n",
    "\n",
    "tensor_train_label = torch.tensor(np_train_label, requires_grad=False)\n",
    "tensor_test_label = torch.tensor(np_test_label, requires_grad=False)\n",
    "tensor_train_image = torch.tensor(train_images, requires_grad=False)\n",
    "tensor_test_image = torch.tensor(test_images, requires_grad=False)\n",
    "tensor_train_thresh = torch.tensor(threshold_train_images, requires_grad=False)\n",
    "tensor_test_thresh = torch.tensor(threshold_test_images, requires_grad=False)"
   ],
   "metadata": {
    "collapsed": false,
    "ExecuteTime": {
     "end_time": "2024-01-24T21:38:32.502985100Z",
     "start_time": "2024-01-24T21:38:32.452492700Z"
    }
   },
   "id": "e73a178c875d0e4e"
  },
  {
   "cell_type": "code",
   "execution_count": 74,
   "outputs": [],
   "source": [
    "# lets save\n",
    "\n",
    "torch.save({'train_label': tensor_train_label, 'test_label':tensor_test_label, 'train_image': tensor_train_image, 'test_image':tensor_test_image }, 'mnist_tensor_dict.pt')\n",
    "\n",
    "torch.save({'train_label': tensor_train_label, 'test_label':tensor_test_label, 'train_image': tensor_train_thresh, 'test_image':tensor_test_thresh }, 'mnist_thresh_tensor_dict.pt')"
   ],
   "metadata": {
    "collapsed": false,
    "ExecuteTime": {
     "end_time": "2024-01-24T21:38:34.767949700Z",
     "start_time": "2024-01-24T21:38:34.590305300Z"
    }
   },
   "id": "6981d47baf612110"
  },
  {
   "cell_type": "code",
   "execution_count": 75,
   "outputs": [
    {
     "data": {
      "text/plain": "7"
     },
     "execution_count": 75,
     "metadata": {},
     "output_type": "execute_result"
    }
   ],
   "source": [
    "7"
   ],
   "metadata": {
    "collapsed": false,
    "ExecuteTime": {
     "end_time": "2024-01-24T21:39:01.157933100Z",
     "start_time": "2024-01-24T21:39:01.103791500Z"
    }
   },
   "id": "246a8cc73e525898"
  },
  {
   "cell_type": "code",
   "execution_count": null,
   "outputs": [],
   "source": [],
   "metadata": {
    "collapsed": false
   },
   "id": "4a600faab523c533"
  }
 ],
 "metadata": {
  "kernelspec": {
   "display_name": "Python 3",
   "language": "python",
   "name": "python3"
  },
  "language_info": {
   "codemirror_mode": {
    "name": "ipython",
    "version": 2
   },
   "file_extension": ".py",
   "mimetype": "text/x-python",
   "name": "python",
   "nbconvert_exporter": "python",
   "pygments_lexer": "ipython2",
   "version": "2.7.6"
  }
 },
 "nbformat": 4,
 "nbformat_minor": 5
}
