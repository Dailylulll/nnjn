{
 "cells": [
  {
   "cell_type": "markdown",
   "source": [
    "Notes:\n",
    "2. try out torch.info, thop, weights and biases(wandb), comet.ml\n",
    "3. integrate tensorboard, to track gradients and weights in histograms\n",
    "4. move experiment folder out of work folder, make working dir one step back, make experiment folder seperate from what you will send to collab.\n",
    "5. the experiment folder will have experiment dir, and trial notes. Trial notes will be the saved model, the pred list, and a markdown file (that has template) for notes after exmamining tensor board stats"
   ],
   "metadata": {
    "collapsed": false
   },
   "id": "a2f8d0d9577bfce"
  },
  {
   "cell_type": "code",
   "execution_count": null,
   "outputs": [],
   "source": [
    "'''from torch.utils.tensorboard import SummaryWriter\n",
    "\n",
    "writer = SummaryWriter()\n",
    "\n",
    "for epoch in range(num_epochs):\n",
    "    # Training loop here...\n",
    "    # ...\n",
    "\n",
    "    # Log weights to TensorBoard\n",
    "    for name, param in model.named_parameters():\n",
    "        writer.add_histogram(name, param, epoch)\n",
    "\n",
    "writer.close()'''"
   ],
   "metadata": {
    "collapsed": false
   },
   "id": "4fdb50cdad198d7e"
  },
  {
   "cell_type": "code",
   "execution_count": 2,
   "outputs": [],
   "source": [
    "# imports\n",
    "\n",
    "import os\n",
    "import torch\n",
    "import numpy as np\n",
    "import sklearn\n",
    "import data_collection as dc\n",
    "import model_handling as mh\n",
    "import display as dis\n",
    "import general_torch as gt\n",
    "import models\n"
   ],
   "metadata": {
    "collapsed": false,
    "ExecuteTime": {
     "end_time": "2024-01-26T20:26:27.514973700Z",
     "start_time": "2024-01-26T20:26:21.163652800Z"
    }
   },
   "id": "initial_id"
  },
  {
   "cell_type": "code",
   "execution_count": null,
   "outputs": [],
   "source": [
    "# starting new experiment, or do you have an old one\n",
    "scratch_start = True\n",
    "skinny_run = True\n",
    "exp_dir = 'test'"
   ],
   "metadata": {
    "collapsed": false
   },
   "id": "eaa2eec13f573d37"
  },
  {
   "cell_type": "code",
   "execution_count": null,
   "outputs": [],
   "source": [
    "# init exp from scratch\n",
    "if scratch_start:\n",
    "    df = dc.initialize_dataframe()\n",
    "    exp = dc.experiment_dict()\n",
    "    device = \"cuda\" if torch.cuda.is_available() else \"cpu\"\n",
    "    dtype = torch.float16 if device == \"cuda\" else torch.float\n",
    "    exp['model'] = 'model0'\n",
    "    exp['data_frame'] = df\n",
    "    exp['optim'] = 'sgd'\n",
    "    exp['optim_dict'] = {}  # if a value is part of the experiment, leave it empty and init it where appropriate\n",
    "    exp['error_f'] = 'mse'\n",
    "    exp['data_file'] = 'mnist.pkl'   # put the tensors into one dict and this will be the file extension!\n",
    "    exp['dl_dict'] = {}  # 'data_batch_size': None, 'random_batch': False,\n",
    "    exp['seed'] = 42\n",
    "    exp['independent_var'] = 'lr'\n",
    "    exp['device'] = device\n",
    "    exp['data_type'] = dtype\n",
    "else:\n",
    "    exp = dc.load_experiment(exp_dir)\n",
    "    df = exp['data_frame']"
   ],
   "metadata": {
    "collapsed": false
   },
   "id": "12800aedc886b754"
  },
  {
   "cell_type": "code",
   "execution_count": 172,
   "outputs": [],
   "source": [
    "# raw data loader, change device, dtype and if needed shape\n",
    "# this needs to change, take exp file, load the dict, use dict to distribute to tensors\n",
    "\n",
    "dict_tensor = dc.load_tensor_dict(exp['data_file'])\n",
    "\n",
    "train_data = dict_tensor['train_data'].to(exp['device']).to(exp['data_type'])\n",
    "train_label = dict_tensor['train_label'].to(exp['device']).to(exp['data_type'])\n",
    "test_data = dict_tensor['test_data'].to(exp['device']).to(exp['data_type'])\n",
    "test_label = dict_tensor['test_label'].to(exp['device']).to(exp['data_type'])\n",
    "\n"
   ],
   "metadata": {
    "collapsed": false,
    "ExecuteTime": {
     "end_time": "2024-01-23T03:50:47.713387900Z",
     "start_time": "2024-01-23T03:50:47.693613800Z"
    }
   },
   "id": "1833066d0443e08d"
  },
  {
   "cell_type": "code",
   "execution_count": 228,
   "outputs": [],
   "source": [
    "# init data set\n",
    "\n",
    "from torch.utils.data import Dataset\n",
    "\n",
    "class Data(Dataset):\n",
    "    def __init__(self, train, label):\n",
    "        self.data = train\n",
    "        self.label = label\n",
    "      \n",
    "    def __len__(self):\n",
    "        return len(self.data)\n",
    "    \n",
    "    def __getitem__(self, idx):\n",
    "        return self.data[idx], self.label[idx]\n",
    "        \n",
    "train_set = Data(train_data, train_label)"
   ],
   "metadata": {
    "collapsed": false,
    "ExecuteTime": {
     "end_time": "2024-01-23T04:04:04.624425200Z",
     "start_time": "2024-01-23T04:04:04.589489700Z"
    }
   },
   "id": "af8aeffedfec4b09"
  },
  {
   "cell_type": "code",
   "execution_count": null,
   "outputs": [],
   "source": [
    "# always start by resetting seeds before initialzing anything\n",
    "gt.init_seeds(exp['seed'], exp['device'])"
   ],
   "metadata": {
    "collapsed": false
   },
   "id": "4b4dc291a585f6e1"
  },
  {
   "cell_type": "code",
   "execution_count": 229,
   "outputs": [],
   "source": [
    "# prep dataloader, use kwargs to init\n",
    "from torch.utils.data import DataLoader\n",
    "\n",
    "train_loader = DataLoader(train_set, **exp['dl_dict']) "
   ],
   "metadata": {
    "collapsed": false,
    "ExecuteTime": {
     "end_time": "2024-01-23T04:04:05.419687500Z",
     "start_time": "2024-01-23T04:04:05.394288900Z"
    }
   },
   "id": "da455aa1ece1d10f"
  },
  {
   "cell_type": "code",
   "execution_count": 231,
   "outputs": [
    {
     "data": {
      "text/plain": "Model0_2(\n  (lin1): Linear(in_features=1, out_features=50, bias=True)\n  (lin2): Linear(in_features=50, out_features=50, bias=True)\n  (lin3): Linear(in_features=50, out_features=1, bias=True)\n)"
     },
     "execution_count": 231,
     "metadata": {},
     "output_type": "execute_result"
    }
   ],
   "source": [
    "# build model / load state dict / load whole model / explicitly init param weights\n",
    "import models\n",
    "\n",
    "model = models.get_model(exp['model'])()\n",
    "model.to(exp['data_type'])\n",
    "model.to(exp['device'])\n"
   ],
   "metadata": {
    "collapsed": false,
    "ExecuteTime": {
     "end_time": "2024-01-23T04:04:07.721650600Z",
     "start_time": "2024-01-23T04:04:07.690276300Z"
    }
   },
   "id": "932a14f591825c47"
  },
  {
   "cell_type": "code",
   "execution_count": null,
   "outputs": [],
   "source": [
    "# check for runtime errors / init predictions should be part of data collection loop\n",
    "\n",
    "\n",
    "'''for i in model.parameters():\n",
    "    print(i.dtype)\n",
    "    break\n",
    "print(test_data.dtype)'''\n",
    "\n",
    "with torch.inference_mode():\n",
    "    preds = model(test_data)\n",
    "    \n",
    "# show init preds / dict\n",
    "model.state_dict()\n",
    "dis.plot_multiclass_confusion_matrix(test_label.to('cpu').numpy(), preds.to('cpu').numpy(), ['0', '1', '2', '3', '4', '5', '6', '7', '8', '9'])"
   ],
   "metadata": {
    "collapsed": false
   },
   "id": "c501937da37b0069"
  },
  {
   "cell_type": "code",
   "execution_count": 233,
   "outputs": [],
   "source": [
    "# set up hyperparameters, init with dict\n",
    "switch = True\n",
    "if switch:\n",
    "    epochs = exp['epochs']\n",
    "    optim = gt.get_optim(exp['optim'])(model.parameters(), **exp['optim_dict'])\n",
    "    error = gt.get_error(exp['error_f'])()\n",
    "else:\n",
    "    epochs = 100\n",
    "    optim = torch.optim.SGD(model.parameters(), lr=0.1, momentum=0.6)\n",
    "    error = torch.nn.MSELoss()"
   ],
   "metadata": {
    "collapsed": false,
    "ExecuteTime": {
     "end_time": "2024-01-23T04:04:10.489584400Z",
     "start_time": "2024-01-23T04:04:10.461024200Z"
    }
   },
   "id": "f7e47896b0650886"
  },
  {
   "cell_type": "code",
   "execution_count": 234,
   "outputs": [],
   "source": [
    "# init tensorboard, use event monitor or profiler? skinny should use this"
   ],
   "metadata": {
    "collapsed": false,
    "ExecuteTime": {
     "end_time": "2024-01-23T04:04:13.141017400Z",
     "start_time": "2024-01-23T04:04:13.112793200Z"
    }
   },
   "id": "6ac545e68edb5495"
  },
  {
   "cell_type": "code",
   "execution_count": 235,
   "outputs": [],
   "source": [
    "# need seperate data collection and examination loops here, also switch to dataloader, use skinny flag to fork collection\n",
    "model.train()\n",
    "if skinny_run:\n",
    "    for _ in range(epochs):\n",
    "        for batch_idx, (data, target) in enumerate(train_loader):\n",
    "            pred = model(data)\n",
    "            '''for i in zip(train_pred, train_label):\n",
    "                print(i)'''\n",
    "            loss = error(pred, target)\n",
    "            optim.zero_grad()\n",
    "            loss.backward()\n",
    "            optim.step()\n",
    "else:\n",
    "    # data collect loop\n",
    "    pass"
   ],
   "metadata": {
    "collapsed": false,
    "ExecuteTime": {
     "end_time": "2024-01-23T04:04:15.150574500Z",
     "start_time": "2024-01-23T04:04:13.958268Z"
    }
   },
   "id": "dcf8fa03522939ad"
  },
  {
   "cell_type": "code",
   "execution_count": 237,
   "outputs": [],
   "source": [
    "# run inference, greater analysis here, use data in eval?\n",
    "\n",
    "with torch.inference_mode():\n",
    "    preds = model(test_data)\n",
    "    \n",
    "# show init preds / dict\n",
    "model.state_dict()\n",
    "dis.plot_multiclass_confusion_matrix(test_label.to('cpu').numpy(), preds.to('cpu').numpy(), ['0', '1', '2', '3', '4', '5', '6', '7', '8', '9'])"
   ],
   "metadata": {
    "collapsed": false,
    "ExecuteTime": {
     "end_time": "2024-01-23T04:04:16.532526600Z",
     "start_time": "2024-01-23T04:04:16.506422900Z"
    }
   },
   "id": "463a10d0f577adbb"
  },
  {
   "cell_type": "code",
   "execution_count": null,
   "outputs": [],
   "source": [
    "if skinny_run:\n",
    "    pass\n",
    "    # skiny eval with no data collection, but still with tensor board\n",
    "else:\n",
    "    pass\n",
    "    # eval model -- tensorboard, events, profiler, take predictions overtime and create a seaborn graph, build a suite!"
   ],
   "metadata": {
    "collapsed": false
   },
   "id": "157fe38eb6c9e56d"
  },
  {
   "cell_type": "code",
   "execution_count": null,
   "outputs": [],
   "source": [
    "# save model state dict, preds, and mkdown, need functions here"
   ],
   "metadata": {
    "collapsed": false
   },
   "id": "5cb782af7eee2c14"
  },
  {
   "cell_type": "code",
   "execution_count": null,
   "outputs": [],
   "source": [
    "#mkdown for notes"
   ],
   "metadata": {
    "collapsed": false
   },
   "id": "e821e46e8c04b833"
  }
 ],
 "metadata": {
  "kernelspec": {
   "display_name": "Python 3",
   "language": "python",
   "name": "python3"
  },
  "language_info": {
   "codemirror_mode": {
    "name": "ipython",
    "version": 2
   },
   "file_extension": ".py",
   "mimetype": "text/x-python",
   "name": "python",
   "nbconvert_exporter": "python",
   "pygments_lexer": "ipython2",
   "version": "2.7.6"
  }
 },
 "nbformat": 4,
 "nbformat_minor": 5
}
