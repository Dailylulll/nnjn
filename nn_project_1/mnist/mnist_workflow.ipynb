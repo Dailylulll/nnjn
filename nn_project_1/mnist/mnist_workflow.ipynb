{
 "cells": [
  {
   "cell_type": "markdown",
   "source": [
    "Notes:\n",
    "1. streamline testing system. Save all stats for each test run, the visuals AND the data, the confusion matrix, the statedict, high level description of arch\n",
    "2. collect miss classification for display\n",
    "3. remember to keep starting weights, init a model and save it start models\n",
    "4. save specific data presentations\n",
    "4. need workflow for data collection work flow and non data colleciton workflow\n",
    "5. handle display with seaborne, pack data into panda dataframes"
   ],
   "metadata": {
    "collapsed": false
   },
   "id": "a2f8d0d9577bfce"
  },
  {
   "cell_type": "code",
   "execution_count": 169,
   "outputs": [],
   "source": [
    "# imports\n",
    "\n",
    "import os\n",
    "import torch\n",
    "import numpy as np\n",
    "import sklearn\n"
   ],
   "metadata": {
    "collapsed": false,
    "ExecuteTime": {
     "end_time": "2024-01-23T03:50:44.980083Z",
     "start_time": "2024-01-23T03:50:44.961023500Z"
    }
   },
   "id": "initial_id"
  },
  {
   "cell_type": "code",
   "execution_count": null,
   "outputs": [],
   "source": [],
   "metadata": {
    "collapsed": false
   },
   "id": "6d95b08c42eb40e6"
  },
  {
   "cell_type": "code",
   "execution_count": 170,
   "outputs": [],
   "source": [
    "# get device\n",
    "\n",
    "device = \"cuda\" if torch.cuda.is_available() else \"cpu\""
   ],
   "metadata": {
    "collapsed": false,
    "ExecuteTime": {
     "end_time": "2024-01-23T03:50:45.480678200Z",
     "start_time": "2024-01-23T03:50:45.460323800Z"
    }
   },
   "id": "fdbf2507838313fa"
  },
  {
   "cell_type": "code",
   "execution_count": 171,
   "outputs": [],
   "source": [
    "# get dtype, not all devices can handle half precision\n",
    "\n",
    "dtype = torch.float16 if device == \"cuda\" else torch.float"
   ],
   "metadata": {
    "collapsed": false,
    "ExecuteTime": {
     "end_time": "2024-01-23T03:50:46.041293700Z",
     "start_time": "2024-01-23T03:50:46.029039800Z"
    }
   },
   "id": "5c6fb5a155aa6e59"
  },
  {
   "cell_type": "code",
   "execution_count": 172,
   "outputs": [],
   "source": [
    "# raw data loader\n",
    "\n",
    "file_train_data = 'data/train-images.pth'\n",
    "file_train_label = 'data/train-labels.pth'\n",
    "file_test_data = 'data/test-images.pth'\n",
    "file_test_label = 'data/test-labels.pth'\n",
    "\n",
    "train_data_tensor = torch.load(file_train_data).to(device).to(dtype)\n",
    "train_label_tensor = torch.load(file_train_data).to(device).to(dtype)\n",
    "test_data_tensor = torch.load(file_train_data).to(device).to(dtype)\n",
    "test_label_tensor = torch.load(file_train_data).to(device).to(dtype)\n",
    "\n"
   ],
   "metadata": {
    "collapsed": false,
    "ExecuteTime": {
     "end_time": "2024-01-23T03:50:47.713387900Z",
     "start_time": "2024-01-23T03:50:47.693613800Z"
    }
   },
   "id": "1833066d0443e08d"
  },
  {
   "cell_type": "code",
   "execution_count": 173,
   "outputs": [],
   "source": [
    "# cleaning and transforming, different types\n",
    "\n",
    "# images should be binary correct?"
   ],
   "metadata": {
    "collapsed": false,
    "ExecuteTime": {
     "end_time": "2024-01-23T03:50:48.383281400Z",
     "start_time": "2024-01-23T03:50:48.367059400Z"
    }
   },
   "id": "35ba963ad9faad91"
  },
  {
   "cell_type": "code",
   "execution_count": 173,
   "outputs": [],
   "source": [],
   "metadata": {
    "collapsed": false,
    "ExecuteTime": {
     "end_time": "2024-01-23T03:50:49.470050700Z",
     "start_time": "2024-01-23T03:50:49.463968700Z"
    }
   },
   "id": "95c8dd6e80f4fad0"
  },
  {
   "cell_type": "code",
   "execution_count": 174,
   "outputs": [],
   "source": [
    "# seperate into train, valid and test sets with skilearn\n",
    "\n",
    "from sklearn.model_selection import train_test_split\n",
    "\n",
    "test_data_np, train_data_np, test_label_np, train_label_np = train_test_split(data, labels, test_size=0.8)\n"
   ],
   "metadata": {
    "collapsed": false,
    "ExecuteTime": {
     "end_time": "2024-01-23T03:50:50.014651100Z",
     "start_time": "2024-01-23T03:50:49.994700700Z"
    }
   },
   "id": "f6ef8fb8866c275c"
  },
  {
   "cell_type": "code",
   "execution_count": 175,
   "outputs": [],
   "source": [
    "# Convert to tensors, align shapes, datatypes and device\n",
    "# shape = (len(test_data_np), 1)\n",
    "\n",
    "test_data = torch.tensor(test_data_np, dtype=dtype, device=device).reshape(len(test_data_np), 1)\n",
    "test_label = torch.tensor(test_label_np, dtype=dtype, device=device).reshape(len(test_label_np), 1)\n",
    "train_data = torch.tensor(train_data_np, dtype=dtype, device=device).reshape(len(train_data_np), 1)\n",
    "train_label = torch.tensor(train_label_np, dtype=dtype, device=device).reshape(len(train_label_np), 1)\n",
    "\n"
   ],
   "metadata": {
    "collapsed": false,
    "ExecuteTime": {
     "end_time": "2024-01-23T03:50:50.746050Z",
     "start_time": "2024-01-23T03:50:50.722485500Z"
    }
   },
   "id": "83ce0ea0fc74e55e"
  },
  {
   "cell_type": "code",
   "execution_count": 228,
   "outputs": [],
   "source": [
    "# init data set\n",
    "\n",
    "from torch.utils.data import Dataset\n",
    "\n",
    "class Data(Dataset):\n",
    "    def __init__(self, train, label):\n",
    "        self.data = train\n",
    "        self.label = label\n",
    "      \n",
    "    def __len__(self):\n",
    "        return len(self.data)\n",
    "    \n",
    "    def __getitem__(self, idx):\n",
    "        return self.data[idx], self.label[idx]\n",
    "        \n",
    "train_set = Data(train_data, train_label)"
   ],
   "metadata": {
    "collapsed": false,
    "ExecuteTime": {
     "end_time": "2024-01-23T04:04:04.624425200Z",
     "start_time": "2024-01-23T04:04:04.589489700Z"
    }
   },
   "id": "af8aeffedfec4b09"
  },
  {
   "cell_type": "code",
   "execution_count": 229,
   "outputs": [],
   "source": [
    "# prep dataloader\n",
    "from torch.utils.data import DataLoader\n",
    "\n",
    "train_loader = DataLoader(train_set, batch_size=int(len(train_data_np)*.25), shuffle=True) "
   ],
   "metadata": {
    "collapsed": false,
    "ExecuteTime": {
     "end_time": "2024-01-23T04:04:05.419687500Z",
     "start_time": "2024-01-23T04:04:05.394288900Z"
    }
   },
   "id": "da455aa1ece1d10f"
  },
  {
   "cell_type": "code",
   "execution_count": 231,
   "outputs": [
    {
     "data": {
      "text/plain": "Model0_2(\n  (lin1): Linear(in_features=1, out_features=50, bias=True)\n  (lin2): Linear(in_features=50, out_features=50, bias=True)\n  (lin3): Linear(in_features=50, out_features=1, bias=True)\n)"
     },
     "execution_count": 231,
     "metadata": {},
     "output_type": "execute_result"
    }
   ],
   "source": [
    "# build model / load state dict / load whole model / explicitly init param weights\n",
    "import models\n",
    "\n",
    "model = models.Model0_2()\n",
    "model.to(dtype)\n",
    "model.to(device)\n"
   ],
   "metadata": {
    "collapsed": false,
    "ExecuteTime": {
     "end_time": "2024-01-23T04:04:07.721650600Z",
     "start_time": "2024-01-23T04:04:07.690276300Z"
    }
   },
   "id": "932a14f591825c47"
  },
  {
   "cell_type": "code",
   "execution_count": 232,
   "outputs": [
    {
     "name": "stdout",
     "output_type": "stream",
     "text": [
      "torch.float32\n",
      "torch.float32\n"
     ]
    },
    {
     "data": {
      "text/plain": "<Figure size 1000x800 with 1 Axes>",
      "image/png": "[encoded data removed]"
     },
     "metadata": {},
     "output_type": "display_data"
    },
    {
     "data": {
      "text/plain": "OrderedDict([('lin1.weight',\n              tensor([[ 2.0708e-01],\n                      [-8.6649e-01],\n                      [ 7.1161e-01],\n                      [ 7.9441e-01],\n                      [-1.7368e-01],\n                      [-2.4783e-02],\n                      [ 1.6290e-01],\n                      [ 7.7814e-02],\n                      [-2.7272e-02],\n                      [ 8.7727e-01],\n                      [ 3.9249e-01],\n                      [-7.7424e-01],\n                      [ 3.3980e-01],\n                      [ 5.0488e-01],\n                      [-7.6333e-01],\n                      [-2.5399e-01],\n                      [ 8.7401e-01],\n                      [-4.3322e-01],\n                      [ 5.3495e-01],\n                      [-3.1193e-01],\n                      [-6.4742e-02],\n                      [-3.7261e-01],\n                      [ 6.3193e-01],\n                      [ 8.4330e-01],\n                      [ 9.4329e-01],\n                      [-8.6731e-01],\n                      [ 7.4292e-01],\n                      [-9.6083e-04],\n                      [-7.8827e-01],\n                      [ 9.7259e-01],\n                      [ 8.5063e-01],\n                      [ 4.1475e-01],\n                      [-1.5203e-01],\n                      [ 1.0268e-01],\n                      [ 2.6043e-01],\n                      [ 7.7547e-01],\n                      [-9.2174e-01],\n                      [-3.4606e-01],\n                      [ 5.9836e-01],\n                      [-4.8079e-01],\n                      [-7.9689e-01],\n                      [ 4.1803e-01],\n                      [ 9.9775e-01],\n                      [ 5.9299e-01],\n                      [ 7.0644e-01],\n                      [-4.6965e-01],\n                      [-5.4617e-02],\n                      [ 3.5204e-01],\n                      [ 5.1128e-01],\n                      [-7.9570e-01]])),\n             ('lin1.bias',\n              tensor([-0.8140,  0.6069, -0.7304,  0.6999,  0.1743,  0.0741,  0.7569,  0.2839,\n                       0.4524,  0.2202, -0.5967,  0.3788, -0.4046, -0.9582, -0.5650, -0.0047,\n                      -0.9324, -0.3534, -0.0680,  0.6547, -0.3639,  0.9445,  0.6136, -0.8593,\n                      -0.9201, -0.1607,  0.4871,  0.4052, -0.8354,  0.8573,  0.4519, -0.6085,\n                       0.6356,  0.7112, -0.9042, -0.6086,  0.0597,  0.3311,  0.3221, -0.2141,\n                       0.9704,  0.2132,  0.1784,  0.4528,  0.3428,  0.9217, -0.0380,  0.3353,\n                       0.2912,  0.5409])),\n             ('lin2.weight',\n              tensor([[ 0.0157, -0.0931, -0.1401,  ...,  0.0469,  0.1401, -0.1159],\n                      [-0.0582, -0.0177,  0.1089,  ...,  0.0830, -0.0389, -0.0831],\n                      [-0.0763, -0.0485, -0.1012,  ..., -0.0814,  0.0536, -0.0785],\n                      ...,\n                      [-0.0986,  0.1210, -0.0481,  ...,  0.0892,  0.0628, -0.0264],\n                      [-0.0643,  0.0678, -0.0027,  ..., -0.0038,  0.0287, -0.0467],\n                      [ 0.0793, -0.0332, -0.0072,  ..., -0.0725,  0.0718,  0.0071]])),\n             ('lin2.bias',\n              tensor([-0.0506,  0.0601,  0.0603,  0.0330, -0.0331,  0.1142,  0.0272, -0.0103,\n                       0.0541,  0.0393, -0.0316,  0.1107,  0.1137, -0.0773,  0.0644,  0.0334,\n                       0.0336, -0.1346,  0.0654, -0.1172,  0.1196, -0.0883, -0.0211,  0.0366,\n                       0.1226, -0.0768, -0.0540,  0.0518, -0.0648, -0.0414,  0.0778,  0.1401,\n                       0.0555,  0.1190, -0.1060,  0.1270,  0.0735, -0.0684, -0.0355, -0.0602,\n                      -0.1258,  0.0437,  0.1268, -0.1378, -0.0831,  0.0278,  0.1086,  0.0868,\n                      -0.0835, -0.0911])),\n             ('lin3.weight',\n              tensor([[ 2.2509e-02,  9.0267e-02, -3.7305e-02, -6.1564e-02,  1.1474e-01,\n                        4.9155e-02,  1.1929e-01,  1.2300e-02,  9.2400e-02, -1.1289e-01,\n                       -7.5879e-02,  9.7397e-02, -4.7307e-03, -1.3773e-01,  8.2251e-02,\n                        1.3718e-01, -7.1688e-03, -3.0130e-05,  8.2901e-02,  9.0405e-02,\n                        7.0933e-02, -1.1617e-01, -1.0244e-01,  8.6623e-02, -1.2755e-01,\n                       -1.3140e-01, -5.6795e-02,  8.0020e-03, -5.8966e-02,  2.2900e-02,\n                        1.8370e-02, -6.4420e-02,  3.8874e-02,  4.4915e-02,  7.4310e-02,\n                       -1.0170e-01, -6.6584e-03, -7.4780e-02, -1.2963e-01, -1.6075e-02,\n                        2.2402e-02,  3.0206e-02,  6.9338e-02, -1.8405e-02,  1.0110e-01,\n                       -1.0852e-01, -4.5742e-02, -7.4398e-02,  6.1818e-02,  6.6489e-02]])),\n             ('lin3.bias', tensor([-0.0830]))])"
     },
     "execution_count": 232,
     "metadata": {},
     "output_type": "execute_result"
    }
   ],
   "source": [
    "# check for runtime errors / init predictions\n",
    "\n",
    "from visuals.display import train_v_test\n",
    "\n",
    "for i in model.parameters():\n",
    "    print(i.dtype)\n",
    "    break\n",
    "print(test_data.dtype)\n",
    "\n",
    "with torch.inference_mode():\n",
    "    preds = model(test_data.reshape(len(test_data_np), 1))\n",
    "    \n",
    "train_v_test(train_data, train_label, test_data, preds.numpy())\n",
    "model.state_dict()"
   ],
   "metadata": {
    "collapsed": false,
    "ExecuteTime": {
     "end_time": "2024-01-23T04:04:08.902150400Z",
     "start_time": "2024-01-23T04:04:08.593737400Z"
    }
   },
   "id": "c501937da37b0069"
  },
  {
   "cell_type": "code",
   "execution_count": 233,
   "outputs": [],
   "source": [
    "# set up hyperparameters\n",
    "epochs = 100\n",
    "optim = torch.optim.SGD(model.parameters(), lr=0.1, momentum=0.6)\n",
    "error = torch.nn.MSELoss()"
   ],
   "metadata": {
    "collapsed": false,
    "ExecuteTime": {
     "end_time": "2024-01-23T04:04:10.489584400Z",
     "start_time": "2024-01-23T04:04:10.461024200Z"
    }
   },
   "id": "f7e47896b0650886"
  },
  {
   "cell_type": "code",
   "execution_count": 234,
   "outputs": [],
   "source": [
    "# init tensorboard, use event monitor or profiler?"
   ],
   "metadata": {
    "collapsed": false,
    "ExecuteTime": {
     "end_time": "2024-01-23T04:04:13.141017400Z",
     "start_time": "2024-01-23T04:04:13.112793200Z"
    }
   },
   "id": "6ac545e68edb5495"
  },
  {
   "cell_type": "code",
   "execution_count": 235,
   "outputs": [],
   "source": [
    "# train model, no dataloader, manual batching\n",
    "model.train()\n",
    "for _ in range(epochs):\n",
    "    for batch_idx, (data, target) in enumerate(train_loader):\n",
    "        pred = model(data)\n",
    "        '''for i in zip(train_pred, train_label):\n",
    "            print(i)'''\n",
    "        loss = error(pred, target)\n",
    "        optim.zero_grad()\n",
    "        loss.backward()\n",
    "        optim.step()"
   ],
   "metadata": {
    "collapsed": false,
    "ExecuteTime": {
     "end_time": "2024-01-23T04:04:15.150574500Z",
     "start_time": "2024-01-23T04:04:13.958268Z"
    }
   },
   "id": "dcf8fa03522939ad"
  },
  {
   "cell_type": "code",
   "execution_count": 236,
   "outputs": [],
   "source": [
    "# train model, with dataloader"
   ],
   "metadata": {
    "collapsed": false,
    "ExecuteTime": {
     "end_time": "2024-01-23T04:04:15.976758200Z",
     "start_time": "2024-01-23T04:04:15.969550800Z"
    }
   },
   "id": "a2f4945522033fb4"
  },
  {
   "cell_type": "code",
   "execution_count": null,
   "outputs": [],
   "source": [
    "# need data collect and no collect modes"
   ],
   "metadata": {
    "collapsed": false
   },
   "id": "40c0c4c13f4f836c"
  },
  {
   "cell_type": "code",
   "execution_count": 237,
   "outputs": [],
   "source": [
    "# run model\n",
    "\n",
    "with torch.inference_mode():\n",
    "    preds = model(test_data.reshape(len(test_data_np), 1))\n",
    "    \n",
    "\n",
    "    "
   ],
   "metadata": {
    "collapsed": false,
    "ExecuteTime": {
     "end_time": "2024-01-23T04:04:16.532526600Z",
     "start_time": "2024-01-23T04:04:16.506422900Z"
    }
   },
   "id": "463a10d0f577adbb"
  },
  {
   "cell_type": "code",
   "execution_count": 238,
   "outputs": [
    {
     "data": {
      "text/plain": "<Figure size 1000x800 with 1 Axes>",
      "image/png": "[encoded data removed]"
     },
     "metadata": {},
     "output_type": "display_data"
    },
    {
     "data": {
      "text/plain": "OrderedDict([('lin1.weight',\n              tensor([[ 0.2063],\n                      [-0.7571],\n                      [ 0.6198],\n                      [ 0.6613],\n                      [-0.2237],\n                      [-0.1143],\n                      [ 0.1997],\n                      [ 0.1598],\n                      [-0.0057],\n                      [ 0.5135],\n                      [ 0.3980],\n                      [-0.8192],\n                      [ 0.3690],\n                      [ 0.4943],\n                      [-0.6222],\n                      [-0.3209],\n                      [ 0.7777],\n                      [-0.4370],\n                      [ 0.4584],\n                      [-0.3959],\n                      [-0.0976],\n                      [-0.4158],\n                      [ 0.5455],\n                      [ 0.7689],\n                      [ 0.8570],\n                      [-0.6412],\n                      [ 0.7492],\n                      [ 0.0718],\n                      [-0.6950],\n                      [ 0.8556],\n                      [ 0.9413],\n                      [ 0.4388],\n                      [-0.2408],\n                      [ 0.1749],\n                      [ 0.2936],\n                      [ 0.6222],\n                      [-1.2441],\n                      [-0.3713],\n                      [ 0.4978],\n                      [-0.4440],\n                      [-0.6934],\n                      [ 0.4076],\n                      [ 2.5552],\n                      [ 0.5192],\n                      [ 0.5401],\n                      [-0.4945],\n                      [-0.1098],\n                      [ 0.3930],\n                      [ 0.4450],\n                      [-0.6294]])),\n             ('lin1.bias',\n              tensor([-0.8073,  0.6412, -0.7631,  0.7912,  0.1707,  0.0683,  0.7530,  0.2861,\n                       0.4525,  0.2964, -0.5924,  0.3776, -0.3965, -0.9597, -0.6330, -0.0111,\n                      -1.0216, -0.3754, -0.0668,  0.6376, -0.3624,  0.9388,  0.6806, -0.9104,\n                      -0.9882, -0.1934,  0.4812,  0.4035, -0.9730,  0.9792,  0.4182, -0.6080,\n                       0.6247,  0.7075, -0.8966, -0.6534,  0.0722,  0.3260,  0.3515, -0.2278,\n                       1.0641,  0.2205,  0.0023,  0.4948,  0.3940,  0.9226, -0.0387,  0.3445,\n                       0.3107,  0.5902])),\n             ('lin2.weight',\n              tensor([[ 0.0370, -0.0849, -0.1148,  ...,  0.0907,  0.1820, -0.1253],\n                      [-0.0435, -0.0425,  0.1408,  ...,  0.1122, -0.0053, -0.1125],\n                      [-0.0661, -0.0457, -0.0898,  ..., -0.0598,  0.0749, -0.0834],\n                      ...,\n                      [-0.1126,  0.1436, -0.0814,  ...,  0.0543,  0.0247,  0.0026],\n                      [-0.0804,  0.0425, -0.0123,  ..., -0.0364,  0.0014, -0.0546],\n                      [ 0.0836, -0.0482,  0.0076,  ..., -0.0591,  0.0881, -0.0089]])),\n             ('lin2.bias',\n              tensor([-0.0390,  0.0636,  0.0642,  0.0305, -0.0114,  0.1136,  0.0388, -0.0100,\n                       0.0586,  0.0239, -0.0336,  0.1439,  0.1049, -0.0806,  0.0650,  0.0406,\n                       0.0246, -0.1302,  0.0686, -0.1118,  0.1252, -0.0933, -0.0251,  0.0379,\n                       0.1081, -0.0838, -0.0583,  0.0490, -0.0633, -0.0472,  0.0837,  0.1307,\n                       0.0575,  0.1065, -0.0967,  0.1139,  0.0751, -0.0767, -0.0501, -0.0571,\n                      -0.1193,  0.0440,  0.1299, -0.1227, -0.0840,  0.0073,  0.1041,  0.0731,\n                      -0.0936, -0.0848])),\n             ('lin3.weight',\n              tensor([[ 0.6169,  0.2297,  0.2146, -0.3077,  0.5162,  0.1866,  0.8050, -0.0709,\n                        0.1604, -0.4748, -0.5248,  0.6989,  0.5399, -0.2960, -0.0218,  0.2521,\n                       -0.2837, -0.2557, -0.0264,  0.1245,  0.1208, -0.2327, -0.0352,  0.5404,\n                       -0.2481, -0.1748, -0.1993, -0.0859,  0.0042, -0.3816,  0.4601, -0.2347,\n                        0.4236, -0.3778,  0.4600, -0.4105,  0.0477, -0.5127, -0.4260,  0.1470,\n                        0.5400,  0.4552,  0.1827,  0.2751,  0.5126, -0.4133,  0.0088, -0.3364,\n                       -0.5370,  0.1121]])),\n             ('lin3.bias', tensor([0.0345]))])"
     },
     "execution_count": 238,
     "metadata": {},
     "output_type": "execute_result"
    }
   ],
   "source": [
    "# eval model -- tensorboard, events, profiler, take predictions overtime and create a seaborn graph\n",
    "train_v_test(train_data, train_label, test_data, preds.numpy())\n",
    "model.state_dict()"
   ],
   "metadata": {
    "collapsed": false,
    "ExecuteTime": {
     "end_time": "2024-01-23T04:04:17.652572900Z",
     "start_time": "2024-01-23T04:04:17.351271300Z"
    }
   },
   "id": "157fe38eb6c9e56d"
  },
  {
   "cell_type": "code",
   "execution_count": null,
   "outputs": [],
   "source": [
    "# eval learning, scatterplots, learning rate, confusion matrixes"
   ],
   "metadata": {
    "collapsed": false
   },
   "id": "cf4ec526147db9dd"
  },
  {
   "cell_type": "code",
   "execution_count": null,
   "outputs": [],
   "source": [
    "# improve model"
   ],
   "metadata": {
    "collapsed": false
   },
   "id": "3dfec0a2d68525a4"
  },
  {
   "cell_type": "code",
   "execution_count": null,
   "outputs": [],
   "source": [
    "# save model state dict"
   ],
   "metadata": {
    "collapsed": false
   },
   "id": "5cb782af7eee2c14"
  },
  {
   "cell_type": "code",
   "execution_count": 32,
   "outputs": [
    {
     "name": "stdout",
     "output_type": "stream",
     "text": [
      "C:\\Users\\Daily\\mynn\\workflow\n",
      "True\n",
      "C:\\Users\\Daily\\mynn\\workflow\\1-10-10-10-1_linear.pth\n"
     ]
    }
   ],
   "source": [
    "# save entire model\n",
    "print(os.getcwd())\n",
    "cwd = os.getcwd()\n",
    "path = os.path.join(cwd, 'trained_models')\n",
    "path = os.path.join(path, f'{model}_linear.pth')\n",
    "print(path)\n",
    "torch.save(model, path)"
   ],
   "metadata": {
    "collapsed": false,
    "ExecuteTime": {
     "end_time": "2024-01-19T17:19:16.719966500Z",
     "start_time": "2024-01-19T17:19:16.705684400Z"
    }
   },
   "id": "96f92d04a9e2c929"
  },
  {
   "cell_type": "code",
   "execution_count": null,
   "outputs": [],
   "source": [],
   "metadata": {
    "collapsed": false
   },
   "id": "11c5943ecad11417"
  }
 ],
 "metadata": {
  "kernelspec": {
   "display_name": "Python 3",
   "language": "python",
   "name": "python3"
  },
  "language_info": {
   "codemirror_mode": {
    "name": "ipython",
    "version": 2
   },
   "file_extension": ".py",
   "mimetype": "text/x-python",
   "name": "python",
   "nbconvert_exporter": "python",
   "pygments_lexer": "ipython2",
   "version": "2.7.6"
  }
 },
 "nbformat": 4,
 "nbformat_minor": 5
}
