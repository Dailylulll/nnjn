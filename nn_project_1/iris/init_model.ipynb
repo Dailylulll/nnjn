{
 "cells": [
  {
   "cell_type": "code",
   "execution_count": 1,
   "id": "initial_id",
   "metadata": {
    "collapsed": true,
    "ExecuteTime": {
     "end_time": "2024-02-01T16:50:26.182144700Z",
     "start_time": "2024-02-01T16:50:24.387202Z"
    }
   },
   "outputs": [
    {
     "data": {
      "text/plain": "(mlp0(\n   (lin1): Linear(in_features=4, out_features=3, bias=True)\n ),\n OrderedDict([('lin1.weight',\n               tensor([[ 0.1857,  0.3497, -0.0323, -0.2092],\n                       [-0.4580,  0.2858,  0.2818, -0.3933],\n                       [ 0.0382,  0.1256,  0.4262, -0.3896]])),\n              ('lin1.bias', tensor([-0.3662, -0.2965,  0.1561]))]))"
     },
     "execution_count": 1,
     "metadata": {},
     "output_type": "execute_result"
    }
   ],
   "source": [
    "''' initialize models and save here for consistency'''\n",
    "import models\n",
    "\n",
    "model = models.Model0()\n",
    "model, model.state_dict()"
   ]
  },
  {
   "cell_type": "code",
   "execution_count": 2,
   "outputs": [],
   "source": [
    "models.save_init_model(model)"
   ],
   "metadata": {
    "collapsed": false,
    "ExecuteTime": {
     "end_time": "2024-02-01T16:50:30.187548500Z",
     "start_time": "2024-02-01T16:50:30.141867400Z"
    }
   },
   "id": "8a18304f5058c501"
  },
  {
   "cell_type": "code",
   "execution_count": null,
   "outputs": [],
   "source": [],
   "metadata": {
    "collapsed": false
   },
   "id": "904113a7d192360e"
  }
 ],
 "metadata": {
  "kernelspec": {
   "display_name": "Python 3",
   "language": "python",
   "name": "python3"
  },
  "language_info": {
   "codemirror_mode": {
    "name": "ipython",
    "version": 2
   },
   "file_extension": ".py",
   "mimetype": "text/x-python",
   "name": "python",
   "nbconvert_exporter": "python",
   "pygments_lexer": "ipython2",
   "version": "2.7.6"
  }
 },
 "nbformat": 4,
 "nbformat_minor": 5
}
