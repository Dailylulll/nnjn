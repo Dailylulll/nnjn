{
 "cells": [
  {
   "cell_type": "code",
   "execution_count": 1,
   "id": "initial_id",
   "metadata": {
    "collapsed": true,
    "ExecuteTime": {
     "end_time": "2024-01-29T03:33:06.402057900Z",
     "start_time": "2024-01-29T03:33:04.644412100Z"
    }
   },
   "outputs": [
    {
     "data": {
      "text/plain": "(Model0(\n   (lin1): Linear(in_features=1, out_features=10, bias=True)\n   (lin2): Linear(in_features=10, out_features=10, bias=True)\n   (lin3): Linear(in_features=10, out_features=1, bias=True)\n ),\n OrderedDict([('lin1.weight',\n               tensor([[-0.7485],\n                       [-0.9424],\n                       [ 0.6696],\n                       [ 0.4028],\n                       [-0.8089],\n                       [-0.3857],\n                       [-0.3227],\n                       [ 0.1828],\n                       [ 0.1976],\n                       [-0.7984]])),\n              ('lin1.bias',\n               tensor([ 0.9809, -0.9851,  0.0210,  0.3534,  0.0743, -0.9977, -0.6330,  0.5430,\n                        0.2233, -0.7201])),\n              ('lin2.weight',\n               tensor([[ 0.1383,  0.2645, -0.1328,  0.1018,  0.1906,  0.0315, -0.3079, -0.2436,\n                         0.2750,  0.0870],\n                       [ 0.2471, -0.1873,  0.1560,  0.1205,  0.0401,  0.1172, -0.1993,  0.1974,\n                         0.1832,  0.2474],\n                       [-0.1805,  0.3157, -0.2857,  0.2402, -0.2034, -0.1750,  0.2145, -0.2612,\n                         0.2326,  0.1297],\n                       [ 0.1969, -0.1114, -0.0897, -0.1208, -0.1217, -0.0040,  0.1843, -0.0250,\n                         0.2037, -0.2305],\n                       [-0.2816, -0.1857, -0.1845, -0.1453, -0.1453, -0.1802, -0.0335,  0.0240,\n                         0.1030,  0.2852],\n                       [-0.2986, -0.0660, -0.2538, -0.3154, -0.2426, -0.2745,  0.0260,  0.1699,\n                        -0.1572,  0.1996],\n                       [-0.1020,  0.1931,  0.2272,  0.0587, -0.1444, -0.1950, -0.0697, -0.2410,\n                         0.1507,  0.2092],\n                       [-0.0882,  0.1069, -0.0574, -0.1676, -0.2541, -0.0083,  0.2634, -0.1656,\n                         0.1826, -0.1341],\n                       [ 0.0700,  0.0004, -0.3037,  0.2469, -0.2915,  0.1897, -0.1033, -0.2459,\n                         0.0413,  0.2203],\n                       [ 0.1935, -0.2055, -0.1061,  0.2309, -0.1912, -0.0260, -0.1599, -0.2266,\n                         0.2061, -0.0249]])),\n              ('lin2.bias',\n               tensor([ 0.1588,  0.2575, -0.1884,  0.0157,  0.2329,  0.1448,  0.0396, -0.1031,\n                        0.0958,  0.0610])),\n              ('lin3.weight',\n               tensor([[-0.1412, -0.2356,  0.0189,  0.2532,  0.2127, -0.0876, -0.1130, -0.2167,\n                        -0.1959,  0.1412]])),\n              ('lin3.bias', tensor([0.0858]))]))"
     },
     "execution_count": 1,
     "metadata": {},
     "output_type": "execute_result"
    }
   ],
   "source": [
    "''' initialize models and save here for consistency'''\n",
    "import models\n",
    "\n",
    "model = models.Model0()\n",
    "model, model.state_dict()"
   ]
  },
  {
   "cell_type": "code",
   "execution_count": 2,
   "outputs": [],
   "source": [
    "models.save_init_model(model)"
   ],
   "metadata": {
    "collapsed": false,
    "ExecuteTime": {
     "end_time": "2024-01-29T03:33:07.363530600Z",
     "start_time": "2024-01-29T03:33:07.321357500Z"
    }
   },
   "id": "8a18304f5058c501"
  }
 ],
 "metadata": {
  "kernelspec": {
   "display_name": "Python 3",
   "language": "python",
   "name": "python3"
  },
  "language_info": {
   "codemirror_mode": {
    "name": "ipython",
    "version": 2
   },
   "file_extension": ".py",
   "mimetype": "text/x-python",
   "name": "python",
   "nbconvert_exporter": "python",
   "pygments_lexer": "ipython2",
   "version": "2.7.6"
  }
 },
 "nbformat": 4,
 "nbformat_minor": 5
}
