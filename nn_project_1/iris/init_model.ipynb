{
 "cells": [
  {
   "cell_type": "code",
   "execution_count": 2,
   "id": "initial_id",
   "metadata": {
    "collapsed": true,
    "ExecuteTime": {
     "end_time": "2024-01-30T02:43:04.774347500Z",
     "start_time": "2024-01-30T02:43:03.142929300Z"
    }
   },
   "outputs": [
    {
     "data": {
      "text/plain": "(Model0(\n   (lin1): Linear(in_features=4, out_features=3, bias=True)\n ),\n OrderedDict([('lin1.weight',\n               tensor([[ 0.0990,  0.2209,  0.3283,  0.2760],\n                       [-0.0918, -0.3822, -0.1077, -0.1657],\n                       [ 0.0615,  0.1632, -0.4147, -0.0501]])),\n              ('lin1.bias', tensor([0.3578, 0.2699, 0.3593]))]))"
     },
     "execution_count": 2,
     "metadata": {},
     "output_type": "execute_result"
    }
   ],
   "source": [
    "''' initialize models and save here for consistency'''\n",
    "import models\n",
    "\n",
    "model = models.Model0()\n",
    "model, model.state_dict()"
   ]
  },
  {
   "cell_type": "code",
   "execution_count": 3,
   "outputs": [],
   "source": [
    "models.save_init_model(model)"
   ],
   "metadata": {
    "collapsed": false,
    "ExecuteTime": {
     "end_time": "2024-01-30T02:43:05.910155300Z",
     "start_time": "2024-01-30T02:43:05.889733700Z"
    }
   },
   "id": "8a18304f5058c501"
  },
  {
   "cell_type": "code",
   "execution_count": null,
   "outputs": [],
   "source": [],
   "metadata": {
    "collapsed": false
   },
   "id": "904113a7d192360e"
  }
 ],
 "metadata": {
  "kernelspec": {
   "display_name": "Python 3",
   "language": "python",
   "name": "python3"
  },
  "language_info": {
   "codemirror_mode": {
    "name": "ipython",
    "version": 2
   },
   "file_extension": ".py",
   "mimetype": "text/x-python",
   "name": "python",
   "nbconvert_exporter": "python",
   "pygments_lexer": "ipython2",
   "version": "2.7.6"
  }
 },
 "nbformat": 4,
 "nbformat_minor": 5
}
