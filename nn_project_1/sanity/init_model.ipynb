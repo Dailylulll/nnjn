{
 "cells": [
  {
   "cell_type": "code",
   "execution_count": 1,
   "id": "initial_id",
   "metadata": {
    "ExecuteTime": {
     "end_time": "2024-02-01T16:50:26.182144700Z",
     "start_time": "2024-02-01T16:50:24.387202Z"
    }
   },
   "outputs": [
    {
     "data": {
      "text/plain": [
       "(rbf0_4(\n",
       "   (lin1): Linear(in_features=5, out_features=4, bias=True)\n",
       " ),\n",
       " OrderedDict([('lin1.weight',\n",
       "               tensor([[-0.3405,  0.0036,  0.1737,  0.1450,  0.1740],\n",
       "                       [-0.0917, -0.1276, -0.1216, -0.1590,  0.1736],\n",
       "                       [ 0.0830, -0.0400,  0.1557, -0.1900, -0.3445],\n",
       "                       [ 0.3224, -0.3138,  0.4095, -0.1344,  0.1972]])),\n",
       "              ('lin1.bias', tensor([-0.2341, -0.0024, -0.4256,  0.2338]))]))"
      ]
     },
     "execution_count": 1,
     "metadata": {},
     "output_type": "execute_result"
    }
   ],
   "source": [
    "''' initialize models and save here for consistency'''\n",
    "import models\n",
    "\n",
    "model = models.rbf0_4()\n",
    "model, model.state_dict()"
   ]
  },
  {
   "cell_type": "code",
   "execution_count": 2,
   "id": "8a18304f5058c501",
   "metadata": {
    "ExecuteTime": {
     "end_time": "2024-02-01T16:50:30.187548500Z",
     "start_time": "2024-02-01T16:50:30.141867400Z"
    },
    "collapsed": false,
    "jupyter": {
     "outputs_hidden": false
    }
   },
   "outputs": [],
   "source": [
    "models.save_init_model(model)"
   ]
  },
  {
   "cell_type": "code",
   "execution_count": null,
   "id": "904113a7d192360e",
   "metadata": {
    "collapsed": false,
    "jupyter": {
     "outputs_hidden": false
    }
   },
   "outputs": [],
   "source": []
  }
 ],
 "metadata": {
  "kernelspec": {
   "display_name": "Python 3 (ipykernel)",
   "language": "python",
   "name": "python3"
  },
  "language_info": {
   "codemirror_mode": {
    "name": "ipython",
    "version": 3
   },
   "file_extension": ".py",
   "mimetype": "text/x-python",
   "name": "python",
   "nbconvert_exporter": "python",
   "pygments_lexer": "ipython3",
   "version": "3.11.7"
  }
 },
 "nbformat": 4,
 "nbformat_minor": 5
}
