{
 "cells": [
  {
   "cell_type": "code",
   "execution_count": 2,
   "id": "initial_id",
   "metadata": {
    "collapsed": true,
    "ExecuteTime": {
     "end_time": "2024-01-29T17:02:46.231201Z",
     "start_time": "2024-01-29T17:02:44.874307700Z"
    }
   },
   "outputs": [],
   "source": [
    "import numpy as np\n",
    "import os\n",
    "from sklearn.datasets import load_iris"
   ]
  },
  {
   "cell_type": "code",
   "execution_count": 3,
   "outputs": [],
   "source": [
    "iris = load_iris()\n",
    "np_data = iris.data\n",
    "np_label = iris.target"
   ],
   "metadata": {
    "collapsed": false,
    "ExecuteTime": {
     "end_time": "2024-01-29T17:02:46.993429800Z",
     "start_time": "2024-01-29T17:02:46.966786500Z"
    }
   },
   "id": "51733a738b0fc4fb"
  },
  {
   "cell_type": "code",
   "execution_count": 4,
   "outputs": [
    {
     "data": {
      "text/plain": "array([5.1, 3.5, 1.4, 0.2])"
     },
     "execution_count": 4,
     "metadata": {},
     "output_type": "execute_result"
    }
   ],
   "source": [
    "np_normalized_data = (np_data - np.mean(np_data, axis=0)) / np.std(np_data)"
   ],
   "metadata": {
    "collapsed": false,
    "ExecuteTime": {
     "end_time": "2024-01-29T17:02:47.994437200Z",
     "start_time": "2024-01-29T17:02:47.988178800Z"
    }
   },
   "id": "bc058ff3d0e19ca"
  },
  {
   "cell_type": "code",
   "execution_count": 13,
   "outputs": [
    {
     "data": {
      "text/plain": "(60, 60)"
     },
     "execution_count": 13,
     "metadata": {},
     "output_type": "execute_result"
    }
   ],
   "source": [
    "# split test set into valid and test set\n",
    "\n",
    "from sklearn.model_selection import train_test_split\n",
    "\n",
    "np_train_data, np_test_data, np_train_label, np_test_label = train_test_split(np_normalized_data, np_label, test_size=0.8)\n",
    "np_test_data, np_valid_data, np_test_label, np_valid_label = train_test_split(np_test_data, np_test_label, test_size=0.5)\n",
    "\n",
    "len(np_valid_data), len(np_valid_label)"
   ],
   "metadata": {
    "collapsed": false,
    "ExecuteTime": {
     "end_time": "2024-01-29T03:18:25.997750600Z",
     "start_time": "2024-01-29T03:18:25.986814700Z"
    }
   },
   "id": "6e6a431b166c3970"
  },
  {
   "cell_type": "code",
   "execution_count": 15,
   "outputs": [],
   "source": [
    "# let us create cnn matrixes... because...\n",
    "\n",
    "'''np_valid_data[0], np.outer(np_valid_data[0], np_valid_data[0])'''\n",
    "\n",
    "np_matrix_train = np.outer(np_train_data, np_train_data)\n",
    "np_matrix_valid = np.outer(np_valid_data, np_valid_data)\n",
    "np_matrix_test = np.outer(np_test_data, np_test_data)\n",
    "    "
   ],
   "metadata": {
    "collapsed": false,
    "ExecuteTime": {
     "end_time": "2024-01-29T03:22:37.057467100Z",
     "start_time": "2024-01-29T03:22:37.029401Z"
    }
   },
   "id": "ac8572b9cfbde362"
  },
  {
   "cell_type": "code",
   "execution_count": 16,
   "outputs": [],
   "source": [
    "# let us convert them all to tensors\n",
    "import torch\n",
    "\n",
    "tensor_train_label = torch.tensor(np_train_label, requires_grad=False).to(torch.long)\n",
    "tensor_test_label = torch.tensor(np_test_label, requires_grad=False).to(torch.long)\n",
    "tensor_valid_label = torch.tensor(np_valid_label, requires_grad=False).to(torch.long)\n",
    "\n",
    "tensor_train_data = torch.tensor(np_train_data, requires_grad=False)\n",
    "tensor_test_data = torch.tensor(np_test_data, requires_grad=False)\n",
    "tensor_valid_data = torch.tensor(np_valid_data, requires_grad=False)\n",
    "\n",
    "tensor_train_matrix= torch.tensor(np_matrix_train, requires_grad=False)\n",
    "tensor_test_matrix = torch.tensor(np_matrix_test, requires_grad=False)\n",
    "tensor_valid_matrix = torch.tensor(np_matrix_valid, requires_grad=False)\n"
   ],
   "metadata": {
    "collapsed": false,
    "ExecuteTime": {
     "end_time": "2024-01-29T03:22:42.197136400Z",
     "start_time": "2024-01-29T03:22:38.428688100Z"
    }
   },
   "id": "e73a178c875d0e4e"
  },
  {
   "cell_type": "code",
   "execution_count": 17,
   "outputs": [
    {
     "data": {
      "text/plain": "array([2, 0, 0, 0, 2, 1, 0, 0, 0, 1, 2, 2, 1, 1, 0, 0, 2, 1, 0, 1, 0, 1,\n       2, 1, 2, 1, 2, 2, 0, 2])"
     },
     "execution_count": 17,
     "metadata": {},
     "output_type": "execute_result"
    }
   ],
   "source": [
    "np_train_label"
   ],
   "metadata": {
    "collapsed": false,
    "ExecuteTime": {
     "end_time": "2024-01-29T03:23:07.568657100Z",
     "start_time": "2024-01-29T03:23:07.558526200Z"
    }
   },
   "id": "130413f3b944d690"
  },
  {
   "cell_type": "code",
   "execution_count": 18,
   "outputs": [],
   "source": [
    "# one hot encoding for classification\n",
    "\n",
    "import torch.nn.functional as F\n",
    "\n",
    "num_classes = 3\n",
    "\n",
    "tensor_train_label = F.one_hot(tensor_train_label, num_classes=num_classes)\n",
    "tensor_test_label = F.one_hot(tensor_test_label, num_classes=num_classes)\n",
    "tensor_valid_label = F.one_hot(tensor_valid_label, num_classes=num_classes)"
   ],
   "metadata": {
    "collapsed": false,
    "ExecuteTime": {
     "end_time": "2024-01-29T03:23:16.755707300Z",
     "start_time": "2024-01-29T03:23:16.738331600Z"
    }
   },
   "id": "e8edd0445da80f25"
  },
  {
   "cell_type": "code",
   "execution_count": 19,
   "outputs": [],
   "source": [
    "# lets save, \n",
    "\n",
    "torch.save({'train_label': tensor_train_label, 'test_label':tensor_test_label, 'valid_label': tensor_valid_label, 'train_data': tensor_train_data, 'test_data': tensor_test_data, 'valid_data': tensor_valid_data}, 'iris_tensor_dict.pt')\n",
    "\n",
    "torch.save({'train_label': tensor_train_label, 'test_label':tensor_test_label, 'valid_label': tensor_valid_label, 'train_data': tensor_train_matrix, 'test_data':tensor_test_matrix, 'valid_data': tensor_valid_matrix }, 'iris_matrix_tensor_dict.pt')"
   ],
   "metadata": {
    "collapsed": false,
    "ExecuteTime": {
     "end_time": "2024-01-29T03:23:55.007728Z",
     "start_time": "2024-01-29T03:23:54.997668800Z"
    }
   },
   "id": "6981d47baf612110"
  },
  {
   "cell_type": "code",
   "execution_count": 20,
   "outputs": [
    {
     "data": {
      "text/plain": "7"
     },
     "execution_count": 20,
     "metadata": {},
     "output_type": "execute_result"
    }
   ],
   "source": [
    "7"
   ],
   "metadata": {
    "collapsed": false,
    "ExecuteTime": {
     "end_time": "2024-01-29T03:23:57.063479100Z",
     "start_time": "2024-01-29T03:23:57.034040100Z"
    }
   },
   "id": "246a8cc73e525898"
  },
  {
   "cell_type": "code",
   "execution_count": null,
   "outputs": [],
   "source": [
    "# vestiges\n",
    "\n"
   ],
   "metadata": {
    "collapsed": false
   },
   "id": "4a600faab523c533"
  }
 ],
 "metadata": {
  "kernelspec": {
   "display_name": "Python 3",
   "language": "python",
   "name": "python3"
  },
  "language_info": {
   "codemirror_mode": {
    "name": "ipython",
    "version": 2
   },
   "file_extension": ".py",
   "mimetype": "text/x-python",
   "name": "python",
   "nbconvert_exporter": "python",
   "pygments_lexer": "ipython2",
   "version": "2.7.6"
  }
 },
 "nbformat": 4,
 "nbformat_minor": 5
}
