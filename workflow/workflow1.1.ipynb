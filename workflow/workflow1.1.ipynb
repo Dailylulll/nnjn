{
 "cells": [
  {
   "cell_type": "markdown",
   "source": [
    "Notes:\n",
    "1. use no grad for initialization, and turn it on when necessary\n",
    "2. for non linear, use standard linear with relu, sig, and tanh\n",
    "3. use standard linear layers, transformed input (x*x, x) and custom neurons ( a * x ** b), recurrent layers (simulate expon using a loop)\n",
    "4. use trainable sigmoid to capture exponential non lineararity, convolutional layers to find features and linear to logic those layers\n",
    "5. normal, deep, wide arch"
   ],
   "metadata": {
    "collapsed": false
   },
   "id": "a2f8d0d9577bfce"
  },
  {
   "cell_type": "code",
   "execution_count": 1,
   "outputs": [],
   "source": [
    "# imports\n",
    "\n",
    "import os\n",
    "import torch\n",
    "import numpy as np\n",
    "import sklearn\n"
   ],
   "metadata": {
    "collapsed": false,
    "ExecuteTime": {
     "start_time": "2024-01-19T18:41:43.189535Z"
    }
   },
   "id": "initial_id"
  },
  {
   "cell_type": "code",
   "execution_count": 2,
   "outputs": [],
   "source": [
    "# get device\n",
    "\n",
    "device = \"cuda\" if torch.cuda.is_available() else \"cpu\""
   ],
   "metadata": {
    "collapsed": false,
    "ExecuteTime": {
     "end_time": "2024-01-19T18:41:45.550705300Z",
     "start_time": "2024-01-19T18:41:45.544303100Z"
    }
   },
   "id": "fdbf2507838313fa"
  },
  {
   "cell_type": "code",
   "execution_count": 3,
   "outputs": [],
   "source": [
    "# get dtype, not all devices can handle half precision\n",
    "\n",
    "dtype = torch.float16 if device == \"cuda\" else torch.float"
   ],
   "metadata": {
    "collapsed": false,
    "ExecuteTime": {
     "end_time": "2024-01-19T18:41:45.569625600Z",
     "start_time": "2024-01-19T18:41:45.548348100Z"
    }
   },
   "id": "5c6fb5a155aa6e59"
  },
  {
   "cell_type": "code",
   "execution_count": 4,
   "outputs": [],
   "source": [
    "# raw data loader\n",
    "\n",
    "file = 'data/poly.npy'\n",
    "file_no_extension = os.path.splitext(file)\n",
    "\n",
    "array = np.load(file)\n",
    "data = array[0].copy()\n",
    "labels = array[1].copy()\n"
   ],
   "metadata": {
    "collapsed": false,
    "ExecuteTime": {
     "end_time": "2024-01-19T18:41:47.394204Z",
     "start_time": "2024-01-19T18:41:47.369088200Z"
    }
   },
   "id": "1833066d0443e08d"
  },
  {
   "cell_type": "code",
   "execution_count": 5,
   "outputs": [],
   "source": [
    "# cleaning and transforming, different types\n",
    "\n",
    "data = (data - data.mean()) / data.std()"
   ],
   "metadata": {
    "collapsed": false,
    "ExecuteTime": {
     "end_time": "2024-01-19T18:41:48.508401900Z",
     "start_time": "2024-01-19T18:41:48.503914700Z"
    }
   },
   "id": "35ba963ad9faad91"
  },
  {
   "cell_type": "code",
   "execution_count": 6,
   "outputs": [],
   "source": [
    "# seperate into train, valid and test sets with skilearn\n",
    "\n",
    "from sklearn.model_selection import train_test_split\n",
    "\n",
    "test_data_np, train_data_np, test_label_np, train_label_np = train_test_split(data, labels, test_size=0.8)\n"
   ],
   "metadata": {
    "collapsed": false,
    "ExecuteTime": {
     "end_time": "2024-01-19T18:41:50.116622700Z",
     "start_time": "2024-01-19T18:41:50.049559200Z"
    }
   },
   "id": "f6ef8fb8866c275c"
  },
  {
   "cell_type": "code",
   "execution_count": 7,
   "outputs": [],
   "source": [
    "# Convert to tensors, align shapes, datatypes and device\n",
    "# shape = (len(test_data_np), 1)\n",
    "\n",
    "test_data = torch.tensor(test_data_np, dtype=dtype, device=device).reshape(len(test_data_np), 1)\n",
    "test_label = torch.tensor(test_label_np, dtype=dtype, device=device).reshape(len(test_label_np), 1)\n",
    "train_data = torch.tensor(train_data_np, dtype=dtype, device=device).reshape(len(train_data_np), 1)\n",
    "train_label = torch.tensor(train_label_np, dtype=dtype, device=device).reshape(len(train_label_np), 1)\n",
    "\n"
   ],
   "metadata": {
    "collapsed": false,
    "ExecuteTime": {
     "end_time": "2024-01-19T18:41:50.880246300Z",
     "start_time": "2024-01-19T18:41:50.863431Z"
    }
   },
   "id": "83ce0ea0fc74e55e"
  },
  {
   "cell_type": "code",
   "execution_count": 8,
   "outputs": [],
   "source": [
    "# use dataloader to convert to tensors\n",
    "\n",
    "from torch.utils.data import Dataset\n",
    "\n",
    "class Data(Dataset):\n",
    "    def __init__(self, train, label):\n",
    "        self.data = train\n",
    "        self.label = label\n",
    "      \n",
    "    def __len__(self):\n",
    "        return len(self.data)\n",
    "    \n",
    "    def __getitem__(self, idx):\n",
    "        return self.data[idx], self.label[idx]\n",
    "        \n",
    "train_set = Data(train_data, train_label)"
   ],
   "metadata": {
    "collapsed": false,
    "ExecuteTime": {
     "end_time": "2024-01-19T18:41:51.946344400Z",
     "start_time": "2024-01-19T18:41:51.921327500Z"
    }
   },
   "id": "af8aeffedfec4b09"
  },
  {
   "cell_type": "code",
   "execution_count": 17,
   "outputs": [
    {
     "ename": "ValueError",
     "evalue": "Unsupported nonlinearity tim",
     "output_type": "error",
     "traceback": [
      "\u001B[1;31m---------------------------------------------------------------------------\u001B[0m",
      "\u001B[1;31mValueError\u001B[0m                                Traceback (most recent call last)",
      "Cell \u001B[1;32mIn[17], line 1\u001B[0m\n\u001B[1;32m----> 1\u001B[0m torch\u001B[38;5;241m.\u001B[39mnn\u001B[38;5;241m.\u001B[39minit\u001B[38;5;241m.\u001B[39mcalculate_gain(\u001B[38;5;124m'\u001B[39m\u001B[38;5;124mtim\u001B[39m\u001B[38;5;124m'\u001B[39m)\n",
      "File \u001B[1;32m~\\.conda\\envs\\ci\\Lib\\site-packages\\torch\\nn\\init.py:119\u001B[0m, in \u001B[0;36mcalculate_gain\u001B[1;34m(nonlinearity, param)\u001B[0m\n\u001B[0;32m    117\u001B[0m     \u001B[38;5;28;01mreturn\u001B[39;00m \u001B[38;5;241m3.0\u001B[39m \u001B[38;5;241m/\u001B[39m \u001B[38;5;241m4\u001B[39m  \u001B[38;5;66;03m# Value found empirically (https://github.com/pytorch/pytorch/pull/50664)\u001B[39;00m\n\u001B[0;32m    118\u001B[0m \u001B[38;5;28;01melse\u001B[39;00m:\n\u001B[1;32m--> 119\u001B[0m     \u001B[38;5;28;01mraise\u001B[39;00m \u001B[38;5;167;01mValueError\u001B[39;00m(\u001B[38;5;124m\"\u001B[39m\u001B[38;5;124mUnsupported nonlinearity \u001B[39m\u001B[38;5;132;01m{}\u001B[39;00m\u001B[38;5;124m\"\u001B[39m\u001B[38;5;241m.\u001B[39mformat(nonlinearity))\n",
      "\u001B[1;31mValueError\u001B[0m: Unsupported nonlinearity tim"
     ]
    }
   ],
   "source": [
    "# calc gain / weight initialization scale\n",
    "# Define a function to initialize Linear weights.\n",
    "# Note that no_grad() is used here to avoid tracking this computation in the autograd graph.\n",
    "@torch.no_grad()\n",
    "def init_weights(m):\n",
    "  if isinstance(m, nn.Linear):\n",
    "    nn.init.xavier_normal_(m.weight)\n",
    "    m.bias.fill_(0.0)\n",
    "\n",
    "# Apply the function recursively on the module and its submodules.\n",
    "dynamic_net.apply(init_weights)"
   ],
   "metadata": {
    "collapsed": false,
    "ExecuteTime": {
     "end_time": "2024-01-21T00:33:13.830611900Z",
     "start_time": "2024-01-21T00:33:12.489723400Z"
    }
   },
   "id": "a937e89995ab6d7"
  },
  {
   "cell_type": "code",
   "execution_count": 9,
   "outputs": [
    {
     "data": {
      "text/plain": "Model0_2(\n  (lin1): Linear(in_features=1, out_features=50, bias=True)\n  (lin2): Linear(in_features=50, out_features=50, bias=True)\n  (lin3): Linear(in_features=50, out_features=1, bias=True)\n)"
     },
     "execution_count": 9,
     "metadata": {},
     "output_type": "execute_result"
    }
   ],
   "source": [
    "# build model / load state dict / load whole model / explicitly init param weights\n",
    "import models\n",
    "\n",
    "model = models.Model0_2()\n",
    "model.to(dtype)\n",
    "model.to(device)\n"
   ],
   "metadata": {
    "collapsed": false,
    "ExecuteTime": {
     "end_time": "2024-01-19T18:41:53.596197600Z",
     "start_time": "2024-01-19T18:41:53.578797900Z"
    }
   },
   "id": "932a14f591825c47"
  },
  {
   "cell_type": "code",
   "execution_count": 10,
   "outputs": [
    {
     "name": "stdout",
     "output_type": "stream",
     "text": [
      "torch.float32\n",
      "torch.float32\n"
     ]
    },
    {
     "data": {
      "text/plain": "<Figure size 1000x800 with 1 Axes>",
      "image/png": "[encoded data removed]"
     },
     "metadata": {},
     "output_type": "display_data"
    }
   ],
   "source": [
    "# check for runtime errors / init predictions\n",
    "\n",
    "from visuals.display import train_v_test\n",
    "\n",
    "for i in model.parameters():\n",
    "    print(i.dtype)\n",
    "    break\n",
    "print(test_data.dtype)\n",
    "\n",
    "with torch.inference_mode():\n",
    "    preds = model(test_data.reshape(len(test_data_np), 1))\n",
    "    \n",
    "train_v_test(train_data, train_label, test_data, preds.numpy())"
   ],
   "metadata": {
    "collapsed": false,
    "ExecuteTime": {
     "end_time": "2024-01-19T18:41:56.050634900Z",
     "start_time": "2024-01-19T18:41:55.399940Z"
    }
   },
   "id": "c501937da37b0069"
  },
  {
   "cell_type": "code",
   "execution_count": 11,
   "outputs": [],
   "source": [
    "# set up hyperparameters\n",
    "epochs = 100\n",
    "optim = torch.optim.SGD(model.parameters(), lr=0.01)\n",
    "error = torch.nn.MSELoss()"
   ],
   "metadata": {
    "collapsed": false,
    "ExecuteTime": {
     "end_time": "2024-01-19T18:41:56.932397100Z",
     "start_time": "2024-01-19T18:41:56.898944300Z"
    }
   },
   "id": "f7e47896b0650886"
  },
  {
   "cell_type": "code",
   "execution_count": 12,
   "outputs": [
    {
     "data": {
      "text/plain": "tensor([-0.3984,  1.4723,  0.0173,  1.0220,  0.3637, -1.1952, -0.9527,  0.9527,\n        -1.7148,  1.6455, -0.8834,  1.2991, -0.5716, -1.5762, -0.1905, -1.6109,\n        -0.6062,  0.6062, -0.8487, -1.0566,  1.1259,  0.1212,  0.5023,  0.8141,\n        -1.4030, -0.4677, -1.0220,  1.4030,  0.5716,  0.0866, -1.3684,  0.3984,\n        -0.5370,  0.3291,  0.2598, -1.2298,  0.2252,  0.7448, -0.1559, -1.1259,\n         1.0566, -0.1212, -1.6802, -0.7795, -1.1605,  1.4377,  1.6109,  1.5070,\n         1.2645, -0.0866, -0.5023,  1.3684,  0.6755,  1.2298, -0.9180, -0.3637,\n         0.6409, -0.7102, -0.3291, -0.6409,  0.7102,  0.8834, -1.2991, -1.0912,\n        -0.0173, -0.2598,  0.9180,  0.7795,  1.1605, -1.5416, -1.5070,  0.0520,\n         0.5370,  1.1952,  0.1559,  1.0912,  1.5416, -0.2945, -1.2645, -0.8141])"
     },
     "execution_count": 12,
     "metadata": {},
     "output_type": "execute_result"
    }
   ],
   "source": [
    "# init tensorboard, use event monitor or profiler?"
   ],
   "metadata": {
    "collapsed": false,
    "ExecuteTime": {
     "end_time": "2024-01-19T18:41:58.742091400Z",
     "start_time": "2024-01-19T18:41:58.704767900Z"
    }
   },
   "id": "6ac545e68edb5495"
  },
  {
   "cell_type": "code",
   "execution_count": 13,
   "outputs": [],
   "source": [
    "# train model, no dataloader, manual batching\n",
    "model.train()\n",
    "for _ in range(epochs):\n",
    "    for z in zip(train_data, train_label):\n",
    "        i, j = z\n",
    "        train_pred = model(i)\n",
    "        '''for i in zip(train_pred, train_label):\n",
    "            print(i)'''\n",
    "        loss = error(train_pred, j)\n",
    "        optim.zero_grad()\n",
    "        loss.backward()\n",
    "        optim.step()"
   ],
   "metadata": {
    "collapsed": false,
    "ExecuteTime": {
     "end_time": "2024-01-19T18:42:03.053353800Z",
     "start_time": "2024-01-19T18:41:59.688986400Z"
    }
   },
   "id": "dcf8fa03522939ad"
  },
  {
   "cell_type": "code",
   "execution_count": 14,
   "outputs": [],
   "source": [
    "# train model, with dataloader"
   ],
   "metadata": {
    "collapsed": false,
    "ExecuteTime": {
     "end_time": "2024-01-19T18:42:04.191261700Z",
     "start_time": "2024-01-19T18:42:04.167353600Z"
    }
   },
   "id": "a2f4945522033fb4"
  },
  {
   "cell_type": "code",
   "execution_count": 15,
   "outputs": [
    {
     "data": {
      "text/plain": "<Figure size 1000x800 with 1 Axes>",
      "image/png": "[encoded data removed]"
     },
     "metadata": {},
     "output_type": "display_data"
    }
   ],
   "source": [
    "# run model\n",
    "\n",
    "with torch.inference_mode():\n",
    "    preds = model(test_data.reshape(len(test_data_np), 1))\n",
    "    "
   ],
   "metadata": {
    "collapsed": false,
    "ExecuteTime": {
     "end_time": "2024-01-19T18:42:04.755922100Z",
     "start_time": "2024-01-19T18:42:04.589608300Z"
    }
   },
   "id": "463a10d0f577adbb"
  },
  {
   "cell_type": "code",
   "execution_count": null,
   "outputs": [],
   "source": [
    "# eval model -- tensorboard, events, profiler"
   ],
   "metadata": {
    "collapsed": false
   },
   "id": "157fe38eb6c9e56d"
  },
  {
   "cell_type": "code",
   "execution_count": null,
   "outputs": [],
   "source": [
    "# eval learning, scatterplots, learning rate, confusion matrixes"
   ],
   "metadata": {
    "collapsed": false
   },
   "id": "cf4ec526147db9dd"
  },
  {
   "cell_type": "code",
   "execution_count": null,
   "outputs": [],
   "source": [
    "# improve model"
   ],
   "metadata": {
    "collapsed": false
   },
   "id": "3dfec0a2d68525a4"
  },
  {
   "cell_type": "code",
   "execution_count": null,
   "outputs": [],
   "source": [
    "# save model state dict"
   ],
   "metadata": {
    "collapsed": false
   },
   "id": "5cb782af7eee2c14"
  },
  {
   "cell_type": "code",
   "execution_count": 32,
   "outputs": [
    {
     "name": "stdout",
     "output_type": "stream",
     "text": [
      "C:\\Users\\Daily\\mynn\\workflow\n",
      "True\n",
      "C:\\Users\\Daily\\mynn\\workflow\\1-10-10-10-1_linear.pth\n"
     ]
    }
   ],
   "source": [
    "# save entire model\n",
    "print(os.getcwd())\n",
    "cwd = os.getcwd()\n",
    "path = os.path.join(cwd, 'trained_models')\n",
    "path = os.path.join(path, f'{model}_linear.pth')\n",
    "print(path)\n",
    "torch.save(model, path)"
   ],
   "metadata": {
    "collapsed": false,
    "ExecuteTime": {
     "end_time": "2024-01-19T17:19:16.719966500Z",
     "start_time": "2024-01-19T17:19:16.705684400Z"
    }
   },
   "id": "96f92d04a9e2c929"
  },
  {
   "cell_type": "code",
   "execution_count": null,
   "outputs": [],
   "source": [],
   "metadata": {
    "collapsed": false
   },
   "id": "11c5943ecad11417"
  }
 ],
 "metadata": {
  "kernelspec": {
   "display_name": "Python 3",
   "language": "python",
   "name": "python3"
  },
  "language_info": {
   "codemirror_mode": {
    "name": "ipython",
    "version": 2
   },
   "file_extension": ".py",
   "mimetype": "text/x-python",
   "name": "python",
   "nbconvert_exporter": "python",
   "pygments_lexer": "ipython2",
   "version": "2.7.6"
  }
 },
 "nbformat": 4,
 "nbformat_minor": 5
}
