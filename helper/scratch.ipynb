{
 "cells": [
  {
   "cell_type": "code",
   "execution_count": 4,
   "id": "initial_id",
   "metadata": {
    "collapsed": true,
    "ExecuteTime": {
     "end_time": "2024-01-26T16:53:22.643925400Z",
     "start_time": "2024-01-26T16:53:22.635075900Z"
    }
   },
   "outputs": [
    {
     "data": {
      "text/plain": "({'trial_num': -1,\n  'variation': 'none',\n  'epoch': -1,\n  'error_rate': 0.0,\n  'preds': [],\n  'total_train_time': 0.0,\n  'inference_time': 0.0,\n  'memory_usage': 0},\n Empty DataFrame\n Columns: [trial_num, variation, epoch, error_rate, preds, total_train_time, inference_time, memory_usage]\n Index: [])"
     },
     "execution_count": 4,
     "metadata": {},
     "output_type": "execute_result"
    }
   ],
   "source": [
    "import data_collection as dc\n",
    "\n",
    "# Initialize the DataFrame\n",
    "df = dc.initialize_dataframe()\n",
    "example = dc.col_dict()\n",
    "example, df\n",
    "\n"
   ]
  },
  {
   "cell_type": "code",
   "execution_count": 7,
   "outputs": [
    {
     "name": "stdout",
     "output_type": "stream",
     "text": [
      "   trial_num variation  epoch  error_rate preds  total_train_time  \\\n",
      "0         -1      none     -1         0.0    []               0.0   \n",
      "1         -1      none     -1         0.0    []               0.0   \n",
      "2         -1      none     -1         0.0    []               0.0   \n",
      "3         -1      none     -1         0.0    []               0.0   \n",
      "4         -1      none     -1         0.0    []               0.0   \n",
      "5         -1      none     -1         0.0    []               0.0   \n",
      "\n",
      "   inference_time  memory_usage  \n",
      "0             0.0             0  \n",
      "1             0.0             0  \n",
      "2             0.0             0  \n",
      "3             0.0             0  \n",
      "4             0.0             0  \n",
      "5             0.0             0  \n",
      "{'trial_num': -1, 'variation': 'none', 'epoch': -1, 'error_rate': 0.0, 'preds': [], 'total_train_time': 0.0, 'inference_time': 0.0, 'memory_usage': 0, 'trial_number': 2}\n"
     ]
    },
    {
     "data": {
      "text/plain": "(None, None)"
     },
     "execution_count": 7,
     "metadata": {},
     "output_type": "execute_result"
    }
   ],
   "source": [
    "'''print(df)'''\n",
    "\n",
    "new_entry = dc.col_dict()\n",
    "new_entry['trial_num'] = 1\n",
    "'''df = dc.add_entry(df, new_entry)'''\n",
    "df.loc[len(df)] = new_entry\n",
    "\n",
    "new_entry = dc.col_dict()\n",
    "new_entry['trial_number'] = 2\n",
    "'''df = dc.add_entry(df, new_entry)'''\n",
    "df.loc[len(df)] = new_entry\n",
    "\n",
    "# Print the DataFrame to check\n",
    "print(df), print(new_entry)"
   ],
   "metadata": {
    "collapsed": false,
    "ExecuteTime": {
     "end_time": "2024-01-26T16:58:29.332203200Z",
     "start_time": "2024-01-26T16:58:29.324564500Z"
    }
   },
   "id": "a7a2c67037e90998"
  },
  {
   "cell_type": "code",
   "execution_count": 5,
   "outputs": [
    {
     "data": {
      "text/plain": "7"
     },
     "execution_count": 5,
     "metadata": {},
     "output_type": "execute_result"
    }
   ],
   "source": [
    "7"
   ],
   "metadata": {
    "collapsed": false,
    "ExecuteTime": {
     "end_time": "2024-01-26T16:26:42.352933200Z",
     "start_time": "2024-01-26T16:26:42.317854100Z"
    }
   },
   "id": "5d40674131796fbe"
  },
  {
   "cell_type": "code",
   "execution_count": 4,
   "outputs": [
    {
     "name": "stdout",
     "output_type": "stream",
     "text": [
      "   A      B     C\n",
      "0  1  value  3.14\n"
     ]
    }
   ],
   "source": [
    "import pandas as pd\n",
    "\n",
    "# Assuming df is your initialized DataFrame\n",
    "# For example:\n",
    "df = pd.DataFrame(columns=['A', 'B', 'C'])\n",
    "\n",
    "# Dictionary to be added as a new row\n",
    "data_dict = {'A': 1, 'B': 'value', 'C': 3.14}\n",
    "\n",
    "# Append the dictionary as a new row to the DataFrame\n",
    "df.loc[len(df)] = data_dict\n",
    "\n",
    "# Now df contains the new row\n",
    "print(df)\n"
   ],
   "metadata": {
    "collapsed": false,
    "ExecuteTime": {
     "end_time": "2024-01-26T16:49:48.823846200Z",
     "start_time": "2024-01-26T16:49:48.808070900Z"
    }
   },
   "id": "c20054667d13bdec"
  },
  {
   "cell_type": "code",
   "execution_count": null,
   "outputs": [],
   "source": [],
   "metadata": {
    "collapsed": false
   },
   "id": "9684a96b15e855a9"
  }
 ],
 "metadata": {
  "kernelspec": {
   "display_name": "Python 3",
   "language": "python",
   "name": "python3"
  },
  "language_info": {
   "codemirror_mode": {
    "name": "ipython",
    "version": 2
   },
   "file_extension": ".py",
   "mimetype": "text/x-python",
   "name": "python",
   "nbconvert_exporter": "python",
   "pygments_lexer": "ipython2",
   "version": "2.7.6"
  }
 },
 "nbformat": 4,
 "nbformat_minor": 5
}
